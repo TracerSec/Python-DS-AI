{
 "cells": [
  {
   "cell_type": "markdown",
   "id": "24a2a545-8c70-4504-8986-03330b8bf984",
   "metadata": {},
   "source": [
    "# Variables in Python"
   ]
  },
  {
   "cell_type": "code",
   "execution_count": 19,
   "id": "726fce13-044b-44a6-87de-eeedb85ec61c",
   "metadata": {},
   "outputs": [],
   "source": [
    "first_name = 'Tracer'"
   ]
  },
  {
   "cell_type": "code",
   "execution_count": 21,
   "id": "31524e4d-48e9-4d9f-a473-7469338f78b8",
   "metadata": {},
   "outputs": [],
   "source": [
    "last_name = 'R'"
   ]
  },
  {
   "cell_type": "code",
   "execution_count": 37,
   "id": "027687ad-7013-42c8-a575-1fd7ed8ceb3c",
   "metadata": {},
   "outputs": [],
   "source": [
    "country = 'India'"
   ]
  },
  {
   "cell_type": "code",
   "execution_count": 23,
   "id": "763b289f-8590-4a3a-88f3-2b2d6f6ed240",
   "metadata": {},
   "outputs": [],
   "source": [
    "city = 'Mumbai'"
   ]
  },
  {
   "cell_type": "code",
   "execution_count": 25,
   "id": "970ad677-b729-4f4f-9a5b-0e9445890e33",
   "metadata": {},
   "outputs": [],
   "source": [
    "age = 453"
   ]
  },
  {
   "cell_type": "code",
   "execution_count": 10,
   "id": "dcd0c691-9c4d-415d-b3fa-bdff57f522e3",
   "metadata": {},
   "outputs": [],
   "source": [
    "is_married = True"
   ]
  },
  {
   "cell_type": "code",
   "execution_count": 12,
   "id": "32292bf1-fc38-4007-b564-e24d76e2c582",
   "metadata": {},
   "outputs": [],
   "source": [
    "skills = ['HTML', 'CSS', 'JS', 'React', 'Python']"
   ]
  },
  {
   "cell_type": "code",
   "execution_count": 14,
   "id": "1ac20c01-ff6f-4e52-b5ad-ea3eed38b2f5",
   "metadata": {},
   "outputs": [],
   "source": [
    "person_info = {\n",
    "    'firstname':'Asabeneh', \n",
    "    'lastname':'Yetayeh', \n",
    "    'country':'Finland',\n",
    "    'city':'Helsinki'\n",
    "    }"
   ]
  },
  {
   "cell_type": "markdown",
   "id": "97fcab79-a378-4d47-9d07-85ffbd915ca5",
   "metadata": {},
   "source": [
    "# Printing the values stored in the variables"
   ]
  },
  {
   "cell_type": "code",
   "execution_count": 27,
   "id": "d89395f4-46ee-4b5b-858b-efabc0e6c02b",
   "metadata": {},
   "outputs": [
    {
     "name": "stdout",
     "output_type": "stream",
     "text": [
      "First name: Tracer\n"
     ]
    }
   ],
   "source": [
    "print('First name:', first_name)"
   ]
  },
  {
   "cell_type": "code",
   "execution_count": 29,
   "id": "b4425841-d3b3-4a8e-9bf3-bf8d48135d68",
   "metadata": {},
   "outputs": [
    {
     "name": "stdout",
     "output_type": "stream",
     "text": [
      "First name length: 6\n"
     ]
    }
   ],
   "source": [
    "print('First name length:', len(first_name))"
   ]
  },
  {
   "cell_type": "code",
   "execution_count": 31,
   "id": "19c97ec4-4d58-4257-b0cb-2341f452a9e3",
   "metadata": {},
   "outputs": [
    {
     "name": "stdout",
     "output_type": "stream",
     "text": [
      "Last name:  R\n"
     ]
    }
   ],
   "source": [
    "print('Last name: ', last_name)"
   ]
  },
  {
   "cell_type": "code",
   "execution_count": 33,
   "id": "dcd4def4-f2c0-432a-b64b-f94d9421f923",
   "metadata": {},
   "outputs": [
    {
     "name": "stdout",
     "output_type": "stream",
     "text": [
      "Last name length:  1\n"
     ]
    }
   ],
   "source": [
    "print('Last name length: ', len(last_name))"
   ]
  },
  {
   "cell_type": "code",
   "execution_count": 39,
   "id": "60bebb32-4c6a-45ca-8c6b-d9a0dcc40520",
   "metadata": {},
   "outputs": [
    {
     "name": "stdout",
     "output_type": "stream",
     "text": [
      "Country:  India\n"
     ]
    }
   ],
   "source": [
    "print('Country: ', country)"
   ]
  },
  {
   "cell_type": "code",
   "execution_count": 41,
   "id": "61ffd4d8-34dc-4b82-ae68-779b58843d0c",
   "metadata": {},
   "outputs": [
    {
     "name": "stdout",
     "output_type": "stream",
     "text": [
      "City:  Mumbai\n"
     ]
    }
   ],
   "source": [
    "print('City: ', city)"
   ]
  },
  {
   "cell_type": "code",
   "execution_count": 43,
   "id": "c1b6802b-63cb-43f5-9587-eab437c41b4d",
   "metadata": {},
   "outputs": [
    {
     "name": "stdout",
     "output_type": "stream",
     "text": [
      "Age:  453\n"
     ]
    }
   ],
   "source": [
    "print('Age: ', age)"
   ]
  },
  {
   "cell_type": "code",
   "execution_count": 45,
   "id": "97e79671-3924-4fa8-ab24-d352dd5652de",
   "metadata": {},
   "outputs": [
    {
     "name": "stdout",
     "output_type": "stream",
     "text": [
      "Married:  True\n"
     ]
    }
   ],
   "source": [
    "print('Married: ', is_married)"
   ]
  },
  {
   "cell_type": "code",
   "execution_count": 47,
   "id": "80d269f3-cfc7-49aa-8e68-b6b925e9d2a1",
   "metadata": {},
   "outputs": [
    {
     "name": "stdout",
     "output_type": "stream",
     "text": [
      "Skills:  ['HTML', 'CSS', 'JS', 'React', 'Python']\n"
     ]
    }
   ],
   "source": [
    "print('Skills: ', skills)"
   ]
  },
  {
   "cell_type": "code",
   "execution_count": 49,
   "id": "a1f3c596-85a0-48ac-a020-8074888ec6d0",
   "metadata": {},
   "outputs": [
    {
     "name": "stdout",
     "output_type": "stream",
     "text": [
      "Person information:  {'firstname': 'Asabeneh', 'lastname': 'Yetayeh', 'country': 'Finland', 'city': 'Helsinki'}\n"
     ]
    }
   ],
   "source": [
    "print('Person information: ', person_info)"
   ]
  },
  {
   "cell_type": "markdown",
   "id": "994192af-9f51-42ca-b095-9801d0f4314e",
   "metadata": {},
   "source": [
    "# Declaring multiple variables in one line"
   ]
  },
  {
   "cell_type": "code",
   "execution_count": 52,
   "id": "f4d2519a-a3a9-40cd-a698-6f663c268a68",
   "metadata": {},
   "outputs": [],
   "source": [
    "first_name, last_name, country, age, is_married = 'Asabeneh', 'Yetayeh', 'Helsink', 250, True"
   ]
  },
  {
   "cell_type": "code",
   "execution_count": 54,
   "id": "01facc46-d9a9-4d24-854b-cc19223f8922",
   "metadata": {},
   "outputs": [
    {
     "name": "stdout",
     "output_type": "stream",
     "text": [
      "Asabeneh Yetayeh Helsink 250 True\n"
     ]
    }
   ],
   "source": [
    "print(first_name, last_name, country, age, is_married)"
   ]
  },
  {
   "cell_type": "code",
   "execution_count": 56,
   "id": "5ec14e2a-2d40-4c8d-a9e2-d54c0b77206a",
   "metadata": {},
   "outputs": [
    {
     "name": "stdout",
     "output_type": "stream",
     "text": [
      "First name: Asabeneh\n"
     ]
    }
   ],
   "source": [
    "print('First name:', first_name)"
   ]
  },
  {
   "cell_type": "code",
   "execution_count": 58,
   "id": "df7375b9-16e7-4e6a-96e3-e3e402f4dd8a",
   "metadata": {},
   "outputs": [
    {
     "name": "stdout",
     "output_type": "stream",
     "text": [
      "Last name:  Yetayeh\n"
     ]
    }
   ],
   "source": [
    "print('Last name: ', last_name)"
   ]
  },
  {
   "cell_type": "code",
   "execution_count": 60,
   "id": "29c656f8-88fa-4a00-8d2c-3c8268853913",
   "metadata": {},
   "outputs": [
    {
     "name": "stdout",
     "output_type": "stream",
     "text": [
      "Country:  Helsink\n"
     ]
    }
   ],
   "source": [
    "print('Country: ', country)"
   ]
  },
  {
   "cell_type": "code",
   "execution_count": 62,
   "id": "3abb968a-da1b-4f96-89ac-ea123b76ab30",
   "metadata": {},
   "outputs": [
    {
     "name": "stdout",
     "output_type": "stream",
     "text": [
      "Age:  250\n"
     ]
    }
   ],
   "source": [
    "print('Age: ', age)"
   ]
  },
  {
   "cell_type": "code",
   "execution_count": 64,
   "id": "65790f80-c442-40a2-acd5-9750236f3dfe",
   "metadata": {},
   "outputs": [
    {
     "name": "stdout",
     "output_type": "stream",
     "text": [
      "Married:  True\n"
     ]
    }
   ],
   "source": [
    "print('Married: ', is_married)"
   ]
  },
  {
   "cell_type": "code",
   "execution_count": null,
   "id": "3be42369-286d-402e-8830-d6175b65431c",
   "metadata": {},
   "outputs": [],
   "source": []
  }
 ],
 "metadata": {
  "kernelspec": {
   "display_name": "Python [conda env:base] *",
   "language": "python",
   "name": "conda-base-py"
  },
  "language_info": {
   "codemirror_mode": {
    "name": "ipython",
    "version": 3
   },
   "file_extension": ".py",
   "mimetype": "text/x-python",
   "name": "python",
   "nbconvert_exporter": "python",
   "pygments_lexer": "ipython3",
   "version": "3.12.7"
  }
 },
 "nbformat": 4,
 "nbformat_minor": 5
}
