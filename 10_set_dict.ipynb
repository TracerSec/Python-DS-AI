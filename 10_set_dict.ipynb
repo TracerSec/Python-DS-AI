{
 "cells": [
  {
   "cell_type": "markdown",
   "id": "49dc6701-147a-4fa2-908f-4d9ec62b87d0",
   "metadata": {},
   "source": [
    "Superset\n",
    "Subset\n",
    "Disjoint"
   ]
  },
  {
   "cell_type": "code",
   "execution_count": 2,
   "id": "12d38de9-82c9-495b-b74f-22c5547e67aa",
   "metadata": {},
   "outputs": [],
   "source": [
    "s11 = {1,2,3,4,5,6,7,8,9} \n",
    "s12 = {3,4,5,6,7,8}\n",
    "s13 = {10,20,30,40}"
   ]
  },
  {
   "cell_type": "code",
   "execution_count": 4,
   "id": "78a6e53e-4a02-4982-9f1f-3000e16c704e",
   "metadata": {},
   "outputs": [
    {
     "data": {
      "text/plain": [
       "True"
      ]
     },
     "execution_count": 4,
     "metadata": {},
     "output_type": "execute_result"
    }
   ],
   "source": [
    "s12.issubset(s11)"
   ]
  },
  {
   "cell_type": "code",
   "execution_count": 6,
   "id": "2ea13684-c650-420d-9596-2102a3e4307d",
   "metadata": {},
   "outputs": [
    {
     "data": {
      "text/plain": [
       "False"
      ]
     },
     "execution_count": 6,
     "metadata": {},
     "output_type": "execute_result"
    }
   ],
   "source": [
    "s11.issubset(s12)"
   ]
  },
  {
   "cell_type": "code",
   "execution_count": 8,
   "id": "217c77eb-66d9-4834-9eeb-b1bd348e8bc2",
   "metadata": {},
   "outputs": [
    {
     "data": {
      "text/plain": [
       "True"
      ]
     },
     "execution_count": 8,
     "metadata": {},
     "output_type": "execute_result"
    }
   ],
   "source": [
    "s11.issuperset(s12)"
   ]
  },
  {
   "cell_type": "code",
   "execution_count": 10,
   "id": "2eb5d463-604c-40b3-adfa-97e714d60936",
   "metadata": {},
   "outputs": [],
   "source": [
    "s11 = {1,2,3,4,5,6,7,8,9} \n",
    "s12 = {3,4,5,6,7,8}\n",
    "s13 = {10,20,30,40}"
   ]
  },
  {
   "cell_type": "code",
   "execution_count": 12,
   "id": "47e72a77-9fba-49bc-8aa4-5d0d09cfca38",
   "metadata": {},
   "outputs": [
    {
     "data": {
      "text/plain": [
       "True"
      ]
     },
     "execution_count": 12,
     "metadata": {},
     "output_type": "execute_result"
    }
   ],
   "source": [
    "s13.isdisjoint(s12)"
   ]
  },
  {
   "cell_type": "code",
   "execution_count": 14,
   "id": "b13f20ff-315d-413b-8014-57a8930cf861",
   "metadata": {},
   "outputs": [
    {
     "data": {
      "text/plain": [
       "True"
      ]
     },
     "execution_count": 14,
     "metadata": {},
     "output_type": "execute_result"
    }
   ],
   "source": [
    "s13.isdisjoint(s11)"
   ]
  },
  {
   "cell_type": "code",
   "execution_count": 16,
   "id": "efbedc10-b35c-4500-a3d9-8f003ef3545b",
   "metadata": {},
   "outputs": [],
   "source": [
    "s12 = {1,2,3,4,5}\n",
    "s13 = {10,20,30}\n",
    "s14 = {15,25,35}"
   ]
  },
  {
   "cell_type": "code",
   "execution_count": 18,
   "id": "0e00f15f-9dbb-478c-8eb1-b0249632ca05",
   "metadata": {},
   "outputs": [
    {
     "data": {
      "text/plain": [
       "False"
      ]
     },
     "execution_count": 18,
     "metadata": {},
     "output_type": "execute_result"
    }
   ],
   "source": [
    "s13.issubset(s12)"
   ]
  },
  {
   "cell_type": "code",
   "execution_count": 20,
   "id": "fa8a5ce2-1529-453a-ba18-ea34289833c4",
   "metadata": {},
   "outputs": [
    {
     "data": {
      "text/plain": [
       "False"
      ]
     },
     "execution_count": 20,
     "metadata": {},
     "output_type": "execute_result"
    }
   ],
   "source": [
    "s12.issuperset(s13)"
   ]
  },
  {
   "cell_type": "code",
   "execution_count": 22,
   "id": "e3e77505-2cda-4cc0-ad5a-f8a51354a0d4",
   "metadata": {},
   "outputs": [
    {
     "data": {
      "text/plain": [
       "True"
      ]
     },
     "execution_count": 22,
     "metadata": {},
     "output_type": "execute_result"
    }
   ],
   "source": [
    "s14.isdisjoint(s12)"
   ]
  },
  {
   "cell_type": "code",
   "execution_count": 24,
   "id": "7caa6d1d-c637-40a6-ab9d-0bc710d26296",
   "metadata": {},
   "outputs": [
    {
     "data": {
      "text/plain": [
       "True"
      ]
     },
     "execution_count": 24,
     "metadata": {},
     "output_type": "execute_result"
    }
   ],
   "source": [
    "s14.isdisjoint(s13)"
   ]
  },
  {
   "cell_type": "code",
   "execution_count": 26,
   "id": "b6e39ae1-ef1f-4ec3-babe-c9b08845d6be",
   "metadata": {},
   "outputs": [],
   "source": [
    "s15 = {1,2,3,4,5,6}\n",
    "s16 = {4,5,6} \n",
    "s17 = {10,20}"
   ]
  },
  {
   "cell_type": "code",
   "execution_count": 28,
   "id": "be8f43e5-2d6e-4c6e-8842-56232b9ba805",
   "metadata": {},
   "outputs": [
    {
     "data": {
      "text/plain": [
       "True"
      ]
     },
     "execution_count": 28,
     "metadata": {},
     "output_type": "execute_result"
    }
   ],
   "source": [
    "s16.issubset(s15)"
   ]
  },
  {
   "cell_type": "code",
   "execution_count": 30,
   "id": "15c69ddd-740d-4f52-8ebf-fab78eb35c7b",
   "metadata": {},
   "outputs": [
    {
     "data": {
      "text/plain": [
       "True"
      ]
     },
     "execution_count": 30,
     "metadata": {},
     "output_type": "execute_result"
    }
   ],
   "source": [
    "s17.isdisjoint(s15)"
   ]
  },
  {
   "cell_type": "code",
   "execution_count": 32,
   "id": "ce609aba-e0a4-4f67-ab7b-b11026ed8067",
   "metadata": {},
   "outputs": [
    {
     "data": {
      "text/plain": [
       "True"
      ]
     },
     "execution_count": 32,
     "metadata": {},
     "output_type": "execute_result"
    }
   ],
   "source": [
    "s17.isdisjoint(s16)"
   ]
  },
  {
   "cell_type": "code",
   "execution_count": 34,
   "id": "cd50a4c0-2b64-4e43-8a1e-e436a877eccc",
   "metadata": {},
   "outputs": [
    {
     "data": {
      "text/plain": [
       "{1, 2, 3, 4, 5, 6}"
      ]
     },
     "execution_count": 34,
     "metadata": {},
     "output_type": "execute_result"
    }
   ],
   "source": [
    "s15"
   ]
  },
  {
   "cell_type": "code",
   "execution_count": 36,
   "id": "c2aef263-7946-4178-a519-6388d297eea5",
   "metadata": {},
   "outputs": [
    {
     "name": "stdout",
     "output_type": "stream",
     "text": [
      "1\n",
      "2\n",
      "3\n",
      "4\n",
      "5\n",
      "6\n"
     ]
    }
   ],
   "source": [
    "for i in s15:\n",
    "    print(i)"
   ]
  },
  {
   "cell_type": "code",
   "execution_count": 38,
   "id": "27dfc1f7-96fc-43f3-adef-17b18eb70ea3",
   "metadata": {},
   "outputs": [
    {
     "name": "stdout",
     "output_type": "stream",
     "text": [
      "(0, 1)\n",
      "(1, 2)\n",
      "(2, 3)\n",
      "(3, 4)\n",
      "(4, 5)\n",
      "(5, 6)\n"
     ]
    }
   ],
   "source": [
    "for i in enumerate(s15):\n",
    "    print(i)"
   ]
  },
  {
   "cell_type": "code",
   "execution_count": 40,
   "id": "e44db5a2-258f-4093-9bd4-e2384dce086b",
   "metadata": {},
   "outputs": [
    {
     "data": {
      "text/plain": [
       "{1, 2, 3, 4, 5, 6}"
      ]
     },
     "execution_count": 40,
     "metadata": {},
     "output_type": "execute_result"
    }
   ],
   "source": [
    "s15"
   ]
  },
  {
   "cell_type": "code",
   "execution_count": 42,
   "id": "17d9f801-7076-4d09-b932-89f69854d07c",
   "metadata": {},
   "outputs": [
    {
     "data": {
      "text/plain": [
       "21"
      ]
     },
     "execution_count": 42,
     "metadata": {},
     "output_type": "execute_result"
    }
   ],
   "source": [
    "sum(s15)"
   ]
  },
  {
   "cell_type": "code",
   "execution_count": 46,
   "id": "71112227-f448-49d5-9c0b-c4422748fdf5",
   "metadata": {},
   "outputs": [
    {
     "data": {
      "text/plain": [
       "1"
      ]
     },
     "execution_count": 46,
     "metadata": {},
     "output_type": "execute_result"
    }
   ],
   "source": [
    "min(s15)"
   ]
  },
  {
   "cell_type": "markdown",
   "id": "39976e7a-f625-4ecb-aaed-3319bd10b4be",
   "metadata": {},
   "source": [
    "dictionary"
   ]
  },
  {
   "cell_type": "code",
   "execution_count": 49,
   "id": "4a4641f1-959d-419e-a046-b6f5bf42f90d",
   "metadata": {},
   "outputs": [
    {
     "data": {
      "text/plain": [
       "{}"
      ]
     },
     "execution_count": 49,
     "metadata": {},
     "output_type": "execute_result"
    }
   ],
   "source": [
    "d = {}\n",
    "d"
   ]
  },
  {
   "cell_type": "code",
   "execution_count": 51,
   "id": "16a95e28-1a85-4644-9865-321c43a4024e",
   "metadata": {},
   "outputs": [
    {
     "data": {
      "text/plain": [
       "dict"
      ]
     },
     "execution_count": 51,
     "metadata": {},
     "output_type": "execute_result"
    }
   ],
   "source": [
    "type(d)"
   ]
  },
  {
   "cell_type": "code",
   "execution_count": 53,
   "id": "dd60d26e-18c9-42e7-8927-dab399ee19f8",
   "metadata": {},
   "outputs": [
    {
     "data": {
      "text/plain": [
       "{1: 'one', 2: 'two', 3: 'three'}"
      ]
     },
     "execution_count": 53,
     "metadata": {},
     "output_type": "execute_result"
    }
   ],
   "source": [
    "d1 = {1 : 'one', 2 : 'two', 3: 'three'}\n",
    "d1"
   ]
  },
  {
   "cell_type": "code",
   "execution_count": 55,
   "id": "fcd6f837-1bed-4361-bbac-6a7a128c7ca8",
   "metadata": {},
   "outputs": [
    {
     "data": {
      "text/plain": [
       "dict_keys([1, 2, 3])"
      ]
     },
     "execution_count": 55,
     "metadata": {},
     "output_type": "execute_result"
    }
   ],
   "source": [
    "d1.keys()"
   ]
  },
  {
   "cell_type": "code",
   "execution_count": 57,
   "id": "cf47414b-a59d-4797-8d6e-5333ab122f3f",
   "metadata": {},
   "outputs": [
    {
     "data": {
      "text/plain": [
       "dict_values(['one', 'two', 'three'])"
      ]
     },
     "execution_count": 57,
     "metadata": {},
     "output_type": "execute_result"
    }
   ],
   "source": [
    "d1.values()"
   ]
  },
  {
   "cell_type": "code",
   "execution_count": 59,
   "id": "0ca212c0-9462-40e1-b599-14205f772d94",
   "metadata": {},
   "outputs": [
    {
     "data": {
      "text/plain": [
       "{1: 'one', 2: 'two', 3: 'three'}"
      ]
     },
     "execution_count": 59,
     "metadata": {},
     "output_type": "execute_result"
    }
   ],
   "source": [
    "d2 = d1.copy()\n",
    "d2"
   ]
  },
  {
   "cell_type": "code",
   "execution_count": 61,
   "id": "93ca7318-d8e4-47f2-b6b0-b553bb18b9ed",
   "metadata": {},
   "outputs": [
    {
     "data": {
      "text/plain": [
       "dict_items([(1, 'one'), (2, 'two'), (3, 'three')])"
      ]
     },
     "execution_count": 61,
     "metadata": {},
     "output_type": "execute_result"
    }
   ],
   "source": [
    "d1.items()"
   ]
  },
  {
   "cell_type": "code",
   "execution_count": 63,
   "id": "3edf2fb0-0b33-40a3-8db8-79b042a8ac91",
   "metadata": {},
   "outputs": [
    {
     "data": {
      "text/plain": [
       "'one'"
      ]
     },
     "execution_count": 63,
     "metadata": {},
     "output_type": "execute_result"
    }
   ],
   "source": [
    "d1[1]"
   ]
  },
  {
   "cell_type": "code",
   "execution_count": 65,
   "id": "93993cb0-a51f-4c51-be8e-0b788e636828",
   "metadata": {},
   "outputs": [
    {
     "data": {
      "text/plain": [
       "{'c': [10, 20, 30], 'd': [10, 20, 30], 'ram': [10, 20, 30], 'b': [10, 20, 30]}"
      ]
     },
     "execution_count": 65,
     "metadata": {},
     "output_type": "execute_result"
    }
   ],
   "source": [
    "keys = {'ram' , 'b' , 'c' , 'd'}\n",
    "value = [10,20,30]\n",
    "mydict3 = dict.fromkeys(keys , value) # Create a dictionary from a sequence of\n",
    "mydict3"
   ]
  },
  {
   "cell_type": "code",
   "execution_count": 67,
   "id": "e26a661f-4183-46df-8ec9-92e112428137",
   "metadata": {},
   "outputs": [
    {
     "data": {
      "text/plain": [
       "{'c': [10, 20, 30, 50],\n",
       " 'd': [10, 20, 30, 50],\n",
       " 'ram': [10, 20, 30, 50],\n",
       " 'b': [10, 20, 30, 50]}"
      ]
     },
     "execution_count": 67,
     "metadata": {},
     "output_type": "execute_result"
    }
   ],
   "source": [
    "value.append(50)\n",
    "mydict3"
   ]
  },
  {
   "cell_type": "code",
   "execution_count": 69,
   "id": "bf19fd5c-691b-4413-a4b0-6346090583e6",
   "metadata": {},
   "outputs": [
    {
     "data": {
      "text/plain": [
       "range(0, 10)"
      ]
     },
     "execution_count": 69,
     "metadata": {},
     "output_type": "execute_result"
    }
   ],
   "source": [
    "range(10)"
   ]
  },
  {
   "cell_type": "code",
   "execution_count": 71,
   "id": "93c76312-555f-4afd-8533-f2881eb62ccb",
   "metadata": {},
   "outputs": [
    {
     "data": {
      "text/plain": [
       "[0, 1, 2, 3, 4, 5, 6, 7, 8, 9]"
      ]
     },
     "execution_count": 71,
     "metadata": {},
     "output_type": "execute_result"
    }
   ],
   "source": [
    "list(range(0,10))"
   ]
  },
  {
   "cell_type": "code",
   "execution_count": 73,
   "id": "a7075d82-794a-4744-9e3f-de4eefa13f27",
   "metadata": {},
   "outputs": [
    {
     "data": {
      "text/plain": [
       "[10, 11, 12, 13, 14, 15, 16, 17, 18, 19]"
      ]
     },
     "execution_count": 73,
     "metadata": {},
     "output_type": "execute_result"
    }
   ],
   "source": [
    "list(range(10,20))"
   ]
  },
  {
   "cell_type": "code",
   "execution_count": 75,
   "id": "172504a6-0d13-4408-8014-1de42b362f18",
   "metadata": {},
   "outputs": [
    {
     "data": {
      "text/plain": [
       "[10, 13, 16, 19]"
      ]
     },
     "execution_count": 75,
     "metadata": {},
     "output_type": "execute_result"
    }
   ],
   "source": [
    "list(range(10,20,3))"
   ]
  },
  {
   "cell_type": "code",
   "execution_count": 77,
   "id": "3e24c6c1-245a-4aaa-930f-352a9afd02de",
   "metadata": {},
   "outputs": [
    {
     "ename": "TypeError",
     "evalue": "range expected at most 3 arguments, got 4",
     "output_type": "error",
     "traceback": [
      "\u001b[1;31m---------------------------------------------------------------------------\u001b[0m",
      "\u001b[1;31mTypeError\u001b[0m                                 Traceback (most recent call last)",
      "Cell \u001b[1;32mIn[77], line 1\u001b[0m\n\u001b[1;32m----> 1\u001b[0m \u001b[38;5;28mlist\u001b[39m(\u001b[38;5;28mrange\u001b[39m(\u001b[38;5;241m10\u001b[39m,\u001b[38;5;241m20\u001b[39m,\u001b[38;5;241m3\u001b[39m,\u001b[38;5;241m4\u001b[39m))\n",
      "\u001b[1;31mTypeError\u001b[0m: range expected at most 3 arguments, got 4"
     ]
    }
   ],
   "source": [
    "list(range(10,20,3,4))"
   ]
  },
  {
   "cell_type": "code",
   "execution_count": 79,
   "id": "14efcd1c-e3cf-4f8c-8bc2-8dca7b7d39ab",
   "metadata": {},
   "outputs": [
    {
     "data": {
      "text/plain": [
       "range(1, 10)"
      ]
     },
     "execution_count": 79,
     "metadata": {},
     "output_type": "execute_result"
    }
   ],
   "source": [
    "r = range(1,10)\n",
    "r"
   ]
  },
  {
   "cell_type": "code",
   "execution_count": 81,
   "id": "a148458c-a6dd-4d06-845f-2f883c70201a",
   "metadata": {},
   "outputs": [
    {
     "name": "stdout",
     "output_type": "stream",
     "text": [
      "1\n",
      "2\n",
      "3\n",
      "4\n",
      "5\n",
      "6\n",
      "7\n",
      "8\n",
      "9\n"
     ]
    }
   ],
   "source": [
    "for i in r:\n",
    "    print(i)"
   ]
  },
  {
   "cell_type": "code",
   "execution_count": null,
   "id": "7a646716-96da-4f5d-bfa5-d6bc6fa6fd5e",
   "metadata": {},
   "outputs": [],
   "source": []
  }
 ],
 "metadata": {
  "kernelspec": {
   "display_name": "Python [conda env:base] *",
   "language": "python",
   "name": "conda-base-py"
  },
  "language_info": {
   "codemirror_mode": {
    "name": "ipython",
    "version": 3
   },
   "file_extension": ".py",
   "mimetype": "text/x-python",
   "name": "python",
   "nbconvert_exporter": "python",
   "pygments_lexer": "ipython3",
   "version": "3.12.7"
  }
 },
 "nbformat": 4,
 "nbformat_minor": 5
}
