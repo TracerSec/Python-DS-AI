{
 "cells": [
  {
   "cell_type": "markdown",
   "id": "f7b4c09c-6527-4ba1-b659-3d295e8011f0",
   "metadata": {},
   "source": [
    "# Introduction"
   ]
  },
  {
   "cell_type": "markdown",
   "id": "68c6f20d-ec65-4d66-b710-6bf60701092a",
   "metadata": {},
   "source": [
    "# Day 1 - 30DaysOfPython Challenge"
   ]
  },
  {
   "cell_type": "code",
   "execution_count": 40,
   "id": "2fec28d8-13d5-4e48-959b-f5e425fff34a",
   "metadata": {},
   "outputs": [
    {
     "name": "stdout",
     "output_type": "stream",
     "text": [
      "5\n"
     ]
    }
   ],
   "source": [
    "print(3 + 2)   # addition(+)"
   ]
  },
  {
   "cell_type": "code",
   "execution_count": 42,
   "id": "df9f997a-44f4-43ec-97ac-a399dfb9c93a",
   "metadata": {},
   "outputs": [
    {
     "name": "stdout",
     "output_type": "stream",
     "text": [
      "1\n"
     ]
    }
   ],
   "source": [
    "print(3 - 2)   # subtraction(-)"
   ]
  },
  {
   "cell_type": "code",
   "execution_count": 44,
   "id": "104b7ca9-c135-4617-ae69-45dd791ccf75",
   "metadata": {},
   "outputs": [
    {
     "name": "stdout",
     "output_type": "stream",
     "text": [
      "6\n"
     ]
    }
   ],
   "source": [
    "print(3 * 2)   # multiplication(*)"
   ]
  },
  {
   "cell_type": "code",
   "execution_count": 46,
   "id": "bd1371a8-da8f-4df0-86c7-6b634d8fdba2",
   "metadata": {},
   "outputs": [
    {
     "name": "stdout",
     "output_type": "stream",
     "text": [
      "1.5\n"
     ]
    }
   ],
   "source": [
    "print(3 / 2)   # division(/)"
   ]
  },
  {
   "cell_type": "code",
   "execution_count": 48,
   "id": "aa41ff6a-d5de-4177-939a-0bc970284d92",
   "metadata": {},
   "outputs": [
    {
     "name": "stdout",
     "output_type": "stream",
     "text": [
      "9\n"
     ]
    }
   ],
   "source": [
    "print(3 ** 2)  # exponential(**)"
   ]
  },
  {
   "cell_type": "code",
   "execution_count": 50,
   "id": "f4a4cf36-3219-4603-81f7-bff8fb1ecb18",
   "metadata": {},
   "outputs": [
    {
     "name": "stdout",
     "output_type": "stream",
     "text": [
      "1\n"
     ]
    }
   ],
   "source": [
    "print(3 % 2)   # modulus(%)"
   ]
  },
  {
   "cell_type": "code",
   "execution_count": 52,
   "id": "2258cbf3-b2ff-41c4-9ec1-56f78dad95ed",
   "metadata": {},
   "outputs": [
    {
     "name": "stdout",
     "output_type": "stream",
     "text": [
      "1\n"
     ]
    }
   ],
   "source": [
    "print(3 // 2)  # Floor division operator(//)"
   ]
  },
  {
   "cell_type": "markdown",
   "id": "92f3ffee-9baf-44e3-ac4a-f36d63c2cd3c",
   "metadata": {},
   "source": [
    "# Checking data types"
   ]
  },
  {
   "cell_type": "code",
   "execution_count": 55,
   "id": "f78a24e1-614f-4bb1-ba22-7e44033a69a7",
   "metadata": {},
   "outputs": [
    {
     "name": "stdout",
     "output_type": "stream",
     "text": [
      "<class 'int'>\n"
     ]
    }
   ],
   "source": [
    "print(type(10))                  # Int"
   ]
  },
  {
   "cell_type": "code",
   "execution_count": 57,
   "id": "a3af68a7-111e-4496-8fd9-62bcda7191e5",
   "metadata": {},
   "outputs": [
    {
     "name": "stdout",
     "output_type": "stream",
     "text": [
      "<class 'float'>\n"
     ]
    }
   ],
   "source": [
    "print(type(3.14))                # Float"
   ]
  },
  {
   "cell_type": "code",
   "execution_count": 59,
   "id": "358001ce-f7b5-4a03-b7fb-2e29a51c33db",
   "metadata": {},
   "outputs": [
    {
     "name": "stdout",
     "output_type": "stream",
     "text": [
      "<class 'complex'>\n"
     ]
    }
   ],
   "source": [
    "print(type(1 + 3j))              # Complex"
   ]
  },
  {
   "cell_type": "code",
   "execution_count": 61,
   "id": "de2e021e-0866-4a69-a97c-39146e65b8a8",
   "metadata": {},
   "outputs": [
    {
     "name": "stdout",
     "output_type": "stream",
     "text": [
      "<class 'str'>\n"
     ]
    }
   ],
   "source": [
    "print(type('tracerr'))   # String"
   ]
  },
  {
   "cell_type": "code",
   "execution_count": 63,
   "id": "da5f618d-be4c-4a9e-a501-85e1fcd519aa",
   "metadata": {},
   "outputs": [
    {
     "name": "stdout",
     "output_type": "stream",
     "text": [
      "<class 'list'>\n"
     ]
    }
   ],
   "source": [
    "print(type([1, 2, 3]))           # List"
   ]
  },
  {
   "cell_type": "code",
   "execution_count": 65,
   "id": "b1d6af1c-3bbb-4135-8b6e-f2cd93cffa4b",
   "metadata": {},
   "outputs": [
    {
     "name": "stdout",
     "output_type": "stream",
     "text": [
      "<class 'dict'>\n"
     ]
    }
   ],
   "source": [
    "print(type({'name':'senapati'})) # Dictionary"
   ]
  },
  {
   "cell_type": "code",
   "execution_count": 67,
   "id": "989e2acc-cbbb-4c01-a868-4c14a7ebe293",
   "metadata": {},
   "outputs": [
    {
     "name": "stdout",
     "output_type": "stream",
     "text": [
      "<class 'set'>\n"
     ]
    }
   ],
   "source": [
    "print(type({9.8, 3.14, 2.7}))    # Set"
   ]
  },
  {
   "cell_type": "code",
   "execution_count": 69,
   "id": "0b198cd4-a222-4d48-87e9-7f279e527200",
   "metadata": {},
   "outputs": [
    {
     "name": "stdout",
     "output_type": "stream",
     "text": [
      "<class 'tuple'>\n"
     ]
    }
   ],
   "source": [
    "print(type((9.8, 3.14, 2.7)))    # Tuple"
   ]
  },
  {
   "cell_type": "code",
   "execution_count": 71,
   "id": "16eba207-f5a5-4571-b334-f5ff57387e99",
   "metadata": {},
   "outputs": [
    {
     "name": "stdout",
     "output_type": "stream",
     "text": [
      "<class 'bool'>\n"
     ]
    }
   ],
   "source": [
    "print(type(3 == 3))              # Bool"
   ]
  },
  {
   "cell_type": "code",
   "execution_count": 73,
   "id": "b5159221-ee51-42b1-aca8-a0e2ea71305e",
   "metadata": {},
   "outputs": [
    {
     "name": "stdout",
     "output_type": "stream",
     "text": [
      "<class 'bool'>\n"
     ]
    }
   ],
   "source": [
    "print(type(3 >= 3))              # Bool"
   ]
  },
  {
   "cell_type": "code",
   "execution_count": null,
   "id": "4eec43aa-79fa-4876-b563-bf3f2038ff28",
   "metadata": {},
   "outputs": [],
   "source": []
  }
 ],
 "metadata": {
  "kernelspec": {
   "display_name": "Python [conda env:base] *",
   "language": "python",
   "name": "conda-base-py"
  },
  "language_info": {
   "codemirror_mode": {
    "name": "ipython",
    "version": 3
   },
   "file_extension": ".py",
   "mimetype": "text/x-python",
   "name": "python",
   "nbconvert_exporter": "python",
   "pygments_lexer": "ipython3",
   "version": "3.12.7"
  }
 },
 "nbformat": 4,
 "nbformat_minor": 5
}
