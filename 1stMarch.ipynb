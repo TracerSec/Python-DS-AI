{
 "cells": [
  {
   "cell_type": "code",
   "execution_count": 1,
   "id": "b3654339-08cd-4829-9c6b-75f22224f7ee",
   "metadata": {},
   "outputs": [
    {
     "name": "stdout",
     "output_type": "stream",
     "text": [
      "Addition: 3\n"
     ]
    }
   ],
   "source": [
    "print('Addition:',1+2)"
   ]
  },
  {
   "cell_type": "code",
   "execution_count": 3,
   "id": "209aa521-5b66-41ad-aaab-0d6ef6387d37",
   "metadata": {},
   "outputs": [
    {
     "name": "stdout",
     "output_type": "stream",
     "text": [
      "Subtraction:  1\n"
     ]
    }
   ],
   "source": [
    "print('Subtraction: ', 2 - 1)"
   ]
  },
  {
   "cell_type": "code",
   "execution_count": 6,
   "id": "b4203ebe-7823-4863-9b30-7e1c80147781",
   "metadata": {},
   "outputs": [
    {
     "name": "stdout",
     "output_type": "stream",
     "text": [
      "Multiplication:  6\n"
     ]
    }
   ],
   "source": [
    "print('Multiplication: ', 2 * 3)"
   ]
  },
  {
   "cell_type": "code",
   "execution_count": 8,
   "id": "653ac546-80bb-4b57-b516-735a768c78c8",
   "metadata": {},
   "outputs": [
    {
     "name": "stdout",
     "output_type": "stream",
     "text": [
      "Division:  2.0\n"
     ]
    }
   ],
   "source": [
    "print ('Division: ', 4 / 2)     "
   ]
  },
  {
   "cell_type": "code",
   "execution_count": 10,
   "id": "3e650bae-5197-4e32-add8-63aef6ee0407",
   "metadata": {},
   "outputs": [
    {
     "name": "stdout",
     "output_type": "stream",
     "text": [
      "Division:  3.0\n"
     ]
    }
   ],
   "source": [
    "print('Division: ', 6 / 2)"
   ]
  },
  {
   "cell_type": "code",
   "execution_count": 12,
   "id": "17d0e604-13ae-4b2d-af2a-4ce02f7ea1c8",
   "metadata": {},
   "outputs": [
    {
     "name": "stdout",
     "output_type": "stream",
     "text": [
      "Division:  3.5\n"
     ]
    }
   ],
   "source": [
    "print('Division: ', 7 / 2)"
   ]
  },
  {
   "cell_type": "code",
   "execution_count": 14,
   "id": "c0646710-4491-491e-9bda-2d8aa8f9a48d",
   "metadata": {},
   "outputs": [
    {
     "name": "stdout",
     "output_type": "stream",
     "text": [
      "Division without the remainder:  3\n"
     ]
    }
   ],
   "source": [
    "print('Division without the remainder: ', 7 // 2)"
   ]
  },
  {
   "cell_type": "code",
   "execution_count": 16,
   "id": "ced637b6-5233-4175-8d5b-f7213ff92e9d",
   "metadata": {},
   "outputs": [
    {
     "name": "stdout",
     "output_type": "stream",
     "text": [
      "Modulus:  1\n"
     ]
    }
   ],
   "source": [
    "print('Modulus: ', 3 % 2)   "
   ]
  },
  {
   "cell_type": "code",
   "execution_count": 18,
   "id": "2f292b6d-bf35-4560-8d88-c35f2d4d5594",
   "metadata": {},
   "outputs": [
    {
     "name": "stdout",
     "output_type": "stream",
     "text": [
      "Division without the remainder:  2\n"
     ]
    }
   ],
   "source": [
    "print ('Division without the remainder: ', 7 // 3)"
   ]
  },
  {
   "cell_type": "code",
   "execution_count": 20,
   "id": "40b1498d-ea21-41d4-9f34-a276d7ed9386",
   "metadata": {},
   "outputs": [
    {
     "name": "stdout",
     "output_type": "stream",
     "text": [
      "Exponential:  9\n"
     ]
    }
   ],
   "source": [
    "print('Exponential: ', 3 ** 2)   "
   ]
  },
  {
   "cell_type": "code",
   "execution_count": 22,
   "id": "b493d23a-f37f-4d99-9f94-1bec1a9d3231",
   "metadata": {},
   "outputs": [
    {
     "name": "stdout",
     "output_type": "stream",
     "text": [
      "Floating Number,PI 3.14\n"
     ]
    }
   ],
   "source": [
    "print('Floating Number,PI', 3.14)"
   ]
  },
  {
   "cell_type": "code",
   "execution_count": 24,
   "id": "56d65815-e3da-4d6c-a0bc-cb6f6c718115",
   "metadata": {},
   "outputs": [
    {
     "name": "stdout",
     "output_type": "stream",
     "text": [
      "Floating Number, gravity 9.81\n"
     ]
    }
   ],
   "source": [
    "print('Floating Number, gravity', 9.81)"
   ]
  },
  {
   "cell_type": "code",
   "execution_count": 26,
   "id": "32ec094a-1f0e-4fe1-98a7-23668d378147",
   "metadata": {},
   "outputs": [
    {
     "name": "stdout",
     "output_type": "stream",
     "text": [
      "Complex number:  (1+1j)\n"
     ]
    }
   ],
   "source": [
    "print('Complex number: ', 1 + 1j)"
   ]
  },
  {
   "cell_type": "code",
   "execution_count": 28,
   "id": "fddb407f-49fc-454f-944e-07f09899db8a",
   "metadata": {},
   "outputs": [
    {
     "name": "stdout",
     "output_type": "stream",
     "text": [
      "Multiplying complex number:  (2+0j)\n"
     ]
    }
   ],
   "source": [
    "print('Multiplying complex number: ',(1 + 1j) * (1-1j))"
   ]
  },
  {
   "cell_type": "code",
   "execution_count": 30,
   "id": "55484ee3-c63c-4898-9d41-3e593e9dfc82",
   "metadata": {},
   "outputs": [],
   "source": [
    "a=3\n",
    "b=2"
   ]
  },
  {
   "cell_type": "code",
   "execution_count": 32,
   "id": "e806667b-9395-4d4a-9745-112b1b727727",
   "metadata": {},
   "outputs": [],
   "source": [
    "total = a + b"
   ]
  },
  {
   "cell_type": "code",
   "execution_count": 34,
   "id": "becfe9ca-44d3-4d4c-b27c-5b0c476bda33",
   "metadata": {},
   "outputs": [],
   "source": [
    "diff = a - b"
   ]
  },
  {
   "cell_type": "code",
   "execution_count": 36,
   "id": "af81432a-e369-4d34-b844-0a57140a2812",
   "metadata": {},
   "outputs": [],
   "source": [
    "product = a * b"
   ]
  },
  {
   "cell_type": "code",
   "execution_count": 38,
   "id": "93a4b049-a998-4236-b17b-42ded3eb0795",
   "metadata": {},
   "outputs": [],
   "source": [
    "division = a / b"
   ]
  },
  {
   "cell_type": "code",
   "execution_count": 40,
   "id": "4ccaa245-6a16-4c09-a310-a41dd7f0e7d3",
   "metadata": {},
   "outputs": [],
   "source": [
    "remainder = a % b"
   ]
  },
  {
   "cell_type": "code",
   "execution_count": 42,
   "id": "4444e26c-4ccb-4389-934c-71f6060f3179",
   "metadata": {},
   "outputs": [],
   "source": [
    "floor_division = a // b"
   ]
  },
  {
   "cell_type": "code",
   "execution_count": 44,
   "id": "15065613-9ae5-4e48-a7d0-a96378cfcc28",
   "metadata": {},
   "outputs": [],
   "source": [
    "exponential = a ** b"
   ]
  },
  {
   "cell_type": "code",
   "execution_count": 46,
   "id": "6b6bab64-a1a1-4baf-973f-949f665992ed",
   "metadata": {},
   "outputs": [
    {
     "name": "stdout",
     "output_type": "stream",
     "text": [
      "5\n"
     ]
    }
   ],
   "source": [
    "print(total)"
   ]
  },
  {
   "cell_type": "code",
   "execution_count": 48,
   "id": "747fb8fe-3da7-46d1-979b-cb9909344204",
   "metadata": {},
   "outputs": [
    {
     "name": "stdout",
     "output_type": "stream",
     "text": [
      "a + b =  5\n"
     ]
    }
   ],
   "source": [
    "print('a + b = ', total)"
   ]
  },
  {
   "cell_type": "code",
   "execution_count": 50,
   "id": "b0931894-c031-4eba-a95e-c6370de3dcbe",
   "metadata": {},
   "outputs": [
    {
     "name": "stdout",
     "output_type": "stream",
     "text": [
      "a - b =  1\n"
     ]
    }
   ],
   "source": [
    "print('a - b = ', diff)"
   ]
  },
  {
   "cell_type": "code",
   "execution_count": 52,
   "id": "d1fe0908-c17d-4401-a067-9b2b0093b483",
   "metadata": {},
   "outputs": [
    {
     "name": "stdout",
     "output_type": "stream",
     "text": [
      "a - b =  1\n"
     ]
    }
   ],
   "source": [
    "print('a - b = ', diff)"
   ]
  },
  {
   "cell_type": "code",
   "execution_count": 54,
   "id": "8e8b3724-b4c9-46da-8b36-9b1238ec9a28",
   "metadata": {},
   "outputs": [
    {
     "name": "stdout",
     "output_type": "stream",
     "text": [
      "a / b =  1.5\n"
     ]
    }
   ],
   "source": [
    "print('a / b = ', division)"
   ]
  },
  {
   "cell_type": "code",
   "execution_count": 56,
   "id": "e6a65b08-ba37-41a1-8e06-e1aad21c7b4c",
   "metadata": {},
   "outputs": [
    {
     "name": "stdout",
     "output_type": "stream",
     "text": [
      "a % b =  1\n"
     ]
    }
   ],
   "source": [
    "print('a % b = ', remainder)"
   ]
  },
  {
   "cell_type": "code",
   "execution_count": 58,
   "id": "424cb87b-4b1d-4848-af29-ac348813f778",
   "metadata": {},
   "outputs": [
    {
     "name": "stdout",
     "output_type": "stream",
     "text": [
      "a // b =  1\n"
     ]
    }
   ],
   "source": [
    "print('a // b = ', floor_division)"
   ]
  },
  {
   "cell_type": "code",
   "execution_count": 60,
   "id": "8c49c0a6-7079-4e12-8ae1-1fe09835c01f",
   "metadata": {},
   "outputs": [
    {
     "name": "stdout",
     "output_type": "stream",
     "text": [
      "a ** b =  9\n"
     ]
    }
   ],
   "source": [
    "print('a ** b = ', exponential)"
   ]
  },
  {
   "cell_type": "code",
   "execution_count": 62,
   "id": "15fda488-a15d-40c0-a6c4-c867b32b0084",
   "metadata": {},
   "outputs": [],
   "source": [
    "num_one = 3\n",
    "num_two = 4"
   ]
  },
  {
   "cell_type": "code",
   "execution_count": 64,
   "id": "c82f6a1d-16f3-4b1c-b202-699f9e3603ee",
   "metadata": {},
   "outputs": [],
   "source": [
    "total = num_one + num_two\n",
    "diff = num_two - num_one\n",
    "product = num_one * num_two\n",
    "div = num_two / num_two\n",
    "remainder = num_two % num_one"
   ]
  },
  {
   "cell_type": "code",
   "execution_count": 66,
   "id": "122f497d-7b4f-4633-95f7-36dff9d156c1",
   "metadata": {},
   "outputs": [
    {
     "name": "stdout",
     "output_type": "stream",
     "text": [
      "total:  7\n",
      "difference:  1\n",
      "product:  12\n",
      "division:  1.0\n",
      "remainder:  1\n"
     ]
    }
   ],
   "source": [
    "print('total: ', total)\n",
    "print('difference: ', diff)\n",
    "print('product: ', product)\n",
    "print('division: ', div)\n",
    "print('remainder: ', remainder)"
   ]
  },
  {
   "cell_type": "code",
   "execution_count": 68,
   "id": "614715c3-98e3-4e0b-adc4-199e72877022",
   "metadata": {},
   "outputs": [],
   "source": [
    "radius = 10 "
   ]
  },
  {
   "cell_type": "code",
   "execution_count": 70,
   "id": "c88421a2-68b0-4206-a4cd-7aa0e31c4697",
   "metadata": {},
   "outputs": [],
   "source": [
    "area_of_circle = 3.14 * radius ** 2 "
   ]
  },
  {
   "cell_type": "code",
   "execution_count": 72,
   "id": "f68bc41d-490c-4a81-ad8a-067af1a7376a",
   "metadata": {},
   "outputs": [
    {
     "name": "stdout",
     "output_type": "stream",
     "text": [
      "Area of a circle: 314.0\n"
     ]
    }
   ],
   "source": [
    "print('Area of a circle:', area_of_circle)"
   ]
  },
  {
   "cell_type": "code",
   "execution_count": 74,
   "id": "f7f57039-556a-4f9c-9bcc-ef37c468f790",
   "metadata": {},
   "outputs": [],
   "source": [
    "length = 10\n",
    "width = 20"
   ]
  },
  {
   "cell_type": "code",
   "execution_count": 76,
   "id": "c0343fee-9a2d-4cae-8a83-87f35cf357fd",
   "metadata": {},
   "outputs": [],
   "source": [
    "area_of_rectangle = length * width"
   ]
  },
  {
   "cell_type": "code",
   "execution_count": 78,
   "id": "9007b3bf-bfe9-4723-a4aa-d83d324a56bc",
   "metadata": {},
   "outputs": [
    {
     "name": "stdout",
     "output_type": "stream",
     "text": [
      "Area of rectangle: 200\n"
     ]
    }
   ],
   "source": [
    "print('Area of rectangle:', area_of_rectangle)"
   ]
  },
  {
   "cell_type": "code",
   "execution_count": 80,
   "id": "a1e9409d-5a32-4eeb-8276-0ed6c45301de",
   "metadata": {},
   "outputs": [],
   "source": [
    "mass = 75\n",
    "gravity = 9.81"
   ]
  },
  {
   "cell_type": "code",
   "execution_count": 82,
   "id": "2894d3c7-5dfb-48a3-a069-0d01a2415e77",
   "metadata": {},
   "outputs": [],
   "source": [
    "weight = mass * gravity"
   ]
  },
  {
   "cell_type": "code",
   "execution_count": 84,
   "id": "89c557d3-0396-4844-8817-0e75a9df1744",
   "metadata": {},
   "outputs": [
    {
     "name": "stdout",
     "output_type": "stream",
     "text": [
      "735.75 N\n"
     ]
    }
   ],
   "source": [
    "print(weight, 'N')"
   ]
  },
  {
   "cell_type": "code",
   "execution_count": 86,
   "id": "9a020188-4753-4043-b40c-d7e0e6cc6643",
   "metadata": {},
   "outputs": [
    {
     "name": "stdout",
     "output_type": "stream",
     "text": [
      "True\n"
     ]
    }
   ],
   "source": [
    "print(3 > 2) "
   ]
  },
  {
   "cell_type": "code",
   "execution_count": 88,
   "id": "fd2e46db-75d0-4f56-9001-43eff0f19613",
   "metadata": {},
   "outputs": [
    {
     "name": "stdout",
     "output_type": "stream",
     "text": [
      "True\n"
     ]
    }
   ],
   "source": [
    "print(3 >= 2) "
   ]
  },
  {
   "cell_type": "code",
   "execution_count": 90,
   "id": "c901795c-39ec-4160-8b85-02e53c95d32b",
   "metadata": {},
   "outputs": [
    {
     "name": "stdout",
     "output_type": "stream",
     "text": [
      "False\n"
     ]
    }
   ],
   "source": [
    "print(3 < 2)  "
   ]
  },
  {
   "cell_type": "code",
   "execution_count": 92,
   "id": "240ccdad-cadf-417e-98f5-48e8127b60ce",
   "metadata": {},
   "outputs": [
    {
     "name": "stdout",
     "output_type": "stream",
     "text": [
      "True\n"
     ]
    }
   ],
   "source": [
    "print(2 < 3)"
   ]
  },
  {
   "cell_type": "code",
   "execution_count": 94,
   "id": "258b38b7-1b8a-453e-a770-ab94e63f9e13",
   "metadata": {},
   "outputs": [
    {
     "name": "stdout",
     "output_type": "stream",
     "text": [
      "True\n"
     ]
    }
   ],
   "source": [
    "print(2 <= 3)"
   ]
  },
  {
   "cell_type": "code",
   "execution_count": 96,
   "id": "8fc2ef14-f919-4b31-bffb-d5f23b4966de",
   "metadata": {},
   "outputs": [
    {
     "name": "stdout",
     "output_type": "stream",
     "text": [
      "False\n"
     ]
    }
   ],
   "source": [
    "print(3 == 2) "
   ]
  },
  {
   "cell_type": "code",
   "execution_count": 98,
   "id": "a762f566-6653-4afd-85fc-61758362e4da",
   "metadata": {},
   "outputs": [
    {
     "name": "stdout",
     "output_type": "stream",
     "text": [
      "True\n"
     ]
    }
   ],
   "source": [
    "print(3 != 2)"
   ]
  },
  {
   "cell_type": "code",
   "execution_count": 100,
   "id": "04ee9a5e-c08e-402d-ad41-43e69651e60c",
   "metadata": {},
   "outputs": [
    {
     "name": "stdout",
     "output_type": "stream",
     "text": [
      "False\n"
     ]
    }
   ],
   "source": [
    "print(len('mango') == len('avocado')) "
   ]
  },
  {
   "cell_type": "code",
   "execution_count": 102,
   "id": "7a9a3316-0ef6-4b27-b693-59a007cba918",
   "metadata": {},
   "outputs": [
    {
     "name": "stdout",
     "output_type": "stream",
     "text": [
      "True\n"
     ]
    }
   ],
   "source": [
    "print(len('mango') != len('avocado')) "
   ]
  },
  {
   "cell_type": "code",
   "execution_count": 104,
   "id": "3a0913ec-bce5-4a89-ad5f-57a8ee3ea445",
   "metadata": {},
   "outputs": [
    {
     "name": "stdout",
     "output_type": "stream",
     "text": [
      "True\n"
     ]
    }
   ],
   "source": [
    "print(len('mango') < len('avocado'))  "
   ]
  },
  {
   "cell_type": "code",
   "execution_count": 106,
   "id": "e074ddad-c176-442a-bd8d-724f74192467",
   "metadata": {},
   "outputs": [
    {
     "name": "stdout",
     "output_type": "stream",
     "text": [
      "False\n"
     ]
    }
   ],
   "source": [
    "print(len('milk') != len('meat')) "
   ]
  },
  {
   "cell_type": "code",
   "execution_count": 108,
   "id": "403c4dfa-83bd-4346-ace2-aba5e0b73f14",
   "metadata": {},
   "outputs": [
    {
     "name": "stdout",
     "output_type": "stream",
     "text": [
      "True\n"
     ]
    }
   ],
   "source": [
    "print(len('milk') == len('meat'))"
   ]
  },
  {
   "cell_type": "code",
   "execution_count": 110,
   "id": "a8dd4333-7aab-4bd8-b908-d22c6bbf5442",
   "metadata": {},
   "outputs": [
    {
     "name": "stdout",
     "output_type": "stream",
     "text": [
      "True\n"
     ]
    }
   ],
   "source": [
    "print(len('tomato') == len('potato'))  "
   ]
  },
  {
   "cell_type": "code",
   "execution_count": 112,
   "id": "7488d3aa-4923-4cb0-8768-832252cddaf5",
   "metadata": {},
   "outputs": [
    {
     "name": "stdout",
     "output_type": "stream",
     "text": [
      "False\n"
     ]
    }
   ],
   "source": [
    "print(len('python') > len('dragon')) "
   ]
  },
  {
   "cell_type": "code",
   "execution_count": 114,
   "id": "cfef8996-609f-4a54-be40-0d9af0635598",
   "metadata": {},
   "outputs": [
    {
     "name": "stdout",
     "output_type": "stream",
     "text": [
      "True == True:  True\n",
      "True == False:  False\n",
      "False == False: True\n",
      "True and True:  True\n",
      "True or False: True\n"
     ]
    }
   ],
   "source": [
    "print('True == True: ', True == True)\n",
    "print('True == False: ', True == False)\n",
    "print('False == False:', False == False)\n",
    "print('True and True: ', True and True)\n",
    "print('True or False:', True or False)"
   ]
  },
  {
   "cell_type": "code",
   "execution_count": 116,
   "id": "2ea8b54b-dd15-41ce-b875-09f4abcf7206",
   "metadata": {},
   "outputs": [
    {
     "name": "stdout",
     "output_type": "stream",
     "text": [
      "1 is 1 True\n"
     ]
    },
    {
     "name": "stderr",
     "output_type": "stream",
     "text": [
      "<>:1: SyntaxWarning: \"is\" with 'int' literal. Did you mean \"==\"?\n",
      "<>:1: SyntaxWarning: \"is\" with 'int' literal. Did you mean \"==\"?\n",
      "C:\\Users\\Romila\\AppData\\Local\\Temp\\ipykernel_5608\\1839276060.py:1: SyntaxWarning: \"is\" with 'int' literal. Did you mean \"==\"?\n",
      "  print('1 is 1', 1 is 1)\n"
     ]
    }
   ],
   "source": [
    "print('1 is 1', 1 is 1) "
   ]
  },
  {
   "cell_type": "code",
   "execution_count": 124,
   "id": "4b80fa78-993c-4d57-ac53-4cfea63602db",
   "metadata": {},
   "outputs": [
    {
     "name": "stdout",
     "output_type": "stream",
     "text": [
      "1 is not 2 True\n"
     ]
    },
    {
     "name": "stderr",
     "output_type": "stream",
     "text": [
      "<>:1: SyntaxWarning: \"is not\" with 'int' literal. Did you mean \"!=\"?\n",
      "<>:1: SyntaxWarning: \"is not\" with 'int' literal. Did you mean \"!=\"?\n",
      "C:\\Users\\Romila\\AppData\\Local\\Temp\\ipykernel_5608\\3620965998.py:1: SyntaxWarning: \"is not\" with 'int' literal. Did you mean \"!=\"?\n",
      "  print('1 is not 2', 1 is not 2)\n"
     ]
    }
   ],
   "source": [
    "print('1 is not 2', 1 is not 2)  "
   ]
  },
  {
   "cell_type": "code",
   "execution_count": 120,
   "id": "ae14794e-9efe-402c-a7a0-d8cde6fc3ff0",
   "metadata": {},
   "outputs": [
    {
     "name": "stdout",
     "output_type": "stream",
     "text": [
      "A in Asabeneh True\n"
     ]
    }
   ],
   "source": [
    "print('A in Asabeneh', 'A' in 'Asabeneh')"
   ]
  },
  {
   "cell_type": "code",
   "execution_count": 122,
   "id": "5e5432b6-f12d-4c4e-b784-2c5dbc12807e",
   "metadata": {},
   "outputs": [
    {
     "name": "stdout",
     "output_type": "stream",
     "text": [
      "B in Asabeneh False\n"
     ]
    }
   ],
   "source": [
    "print('B in Asabeneh', 'B' in 'Asabeneh')"
   ]
  },
  {
   "cell_type": "code",
   "execution_count": 126,
   "id": "5d516313-5b82-45e2-9a3c-702eb72130af",
   "metadata": {},
   "outputs": [
    {
     "name": "stdout",
     "output_type": "stream",
     "text": [
      "True\n"
     ]
    }
   ],
   "source": [
    "print('coding' in 'coding for all')"
   ]
  },
  {
   "cell_type": "code",
   "execution_count": 128,
   "id": "3737f7d2-de3d-4dc7-bd9e-99bb7f24cee1",
   "metadata": {},
   "outputs": [
    {
     "name": "stdout",
     "output_type": "stream",
     "text": [
      "a in an: True\n"
     ]
    }
   ],
   "source": [
    "print('a in an:', 'a' in 'an') "
   ]
  },
  {
   "cell_type": "code",
   "execution_count": 130,
   "id": "4ff24c6c-19dc-4bf3-8c8d-8e8105d8e857",
   "metadata": {},
   "outputs": [
    {
     "name": "stdout",
     "output_type": "stream",
     "text": [
      "4 is 2 ** 2: True\n"
     ]
    },
    {
     "name": "stderr",
     "output_type": "stream",
     "text": [
      "<>:1: SyntaxWarning: \"is\" with 'int' literal. Did you mean \"==\"?\n",
      "<>:1: SyntaxWarning: \"is\" with 'int' literal. Did you mean \"==\"?\n",
      "C:\\Users\\Romila\\AppData\\Local\\Temp\\ipykernel_5608\\3446958131.py:1: SyntaxWarning: \"is\" with 'int' literal. Did you mean \"==\"?\n",
      "  print('4 is 2 ** 2:', 4 is 2 ** 2)\n"
     ]
    }
   ],
   "source": [
    "print('4 is 2 ** 2:', 4 is 2 ** 2) "
   ]
  },
  {
   "cell_type": "code",
   "execution_count": 134,
   "id": "71cfa6c8-e627-48c5-9adf-f747153cc1af",
   "metadata": {},
   "outputs": [
    {
     "name": "stdout",
     "output_type": "stream",
     "text": [
      "True\n"
     ]
    }
   ],
   "source": [
    "print(3 > 2 and 4 > 3)"
   ]
  },
  {
   "cell_type": "code",
   "execution_count": 136,
   "id": "5a6e9c32-8905-4ad9-9849-cc8b34b87e47",
   "metadata": {},
   "outputs": [
    {
     "name": "stdout",
     "output_type": "stream",
     "text": [
      "False\n"
     ]
    }
   ],
   "source": [
    "print(3 > 2 and 4 < 3)"
   ]
  },
  {
   "cell_type": "code",
   "execution_count": 138,
   "id": "2ba58738-2796-4b56-a3a0-9f559cf6ac09",
   "metadata": {},
   "outputs": [
    {
     "name": "stdout",
     "output_type": "stream",
     "text": [
      "False\n"
     ]
    }
   ],
   "source": [
    "print(3 < 2 and 4 < 3)"
   ]
  },
  {
   "cell_type": "code",
   "execution_count": 140,
   "id": "b6fcd36c-07fb-45cf-b1e8-e90044e8661d",
   "metadata": {},
   "outputs": [
    {
     "name": "stdout",
     "output_type": "stream",
     "text": [
      "True\n"
     ]
    }
   ],
   "source": [
    "print(3 > 2 or 4 > 3)"
   ]
  },
  {
   "cell_type": "code",
   "execution_count": 142,
   "id": "19e596a6-0041-45ae-95a1-13d79e56a52e",
   "metadata": {},
   "outputs": [
    {
     "name": "stdout",
     "output_type": "stream",
     "text": [
      "True\n"
     ]
    }
   ],
   "source": [
    "print(3 > 2 or 4 < 3)\n"
   ]
  },
  {
   "cell_type": "code",
   "execution_count": 144,
   "id": "9c8656db-5ef5-4adc-8e5c-49a1a4369082",
   "metadata": {},
   "outputs": [
    {
     "name": "stdout",
     "output_type": "stream",
     "text": [
      "False\n"
     ]
    }
   ],
   "source": [
    "print(3 < 2 or 4 < 3)"
   ]
  },
  {
   "cell_type": "code",
   "execution_count": 146,
   "id": "a2e4c574-1dc9-468a-945e-a46400d2d42d",
   "metadata": {},
   "outputs": [
    {
     "name": "stdout",
     "output_type": "stream",
     "text": [
      "False\n"
     ]
    }
   ],
   "source": [
    "print(not 3 > 2) "
   ]
  },
  {
   "cell_type": "code",
   "execution_count": 148,
   "id": "9e16a107-6b0f-4980-885e-482e6f4a92c7",
   "metadata": {},
   "outputs": [
    {
     "name": "stdout",
     "output_type": "stream",
     "text": [
      "False\n"
     ]
    }
   ],
   "source": [
    "print(not True) "
   ]
  },
  {
   "cell_type": "code",
   "execution_count": 150,
   "id": "117cb482-6470-4492-8df7-749bc517e0d3",
   "metadata": {},
   "outputs": [
    {
     "name": "stdout",
     "output_type": "stream",
     "text": [
      "True\n"
     ]
    }
   ],
   "source": [
    "print(not False)"
   ]
  },
  {
   "cell_type": "code",
   "execution_count": 152,
   "id": "07d6ff32-7005-486d-98e8-55299b9a5ccd",
   "metadata": {},
   "outputs": [
    {
     "name": "stdout",
     "output_type": "stream",
     "text": [
      "True\n"
     ]
    }
   ],
   "source": [
    "print(not not True)"
   ]
  },
  {
   "cell_type": "code",
   "execution_count": 154,
   "id": "821465a6-24a7-4841-a5bb-b30454352701",
   "metadata": {},
   "outputs": [
    {
     "name": "stdout",
     "output_type": "stream",
     "text": [
      "False\n"
     ]
    }
   ],
   "source": [
    "print(not not False)"
   ]
  }
 ],
 "metadata": {
  "kernelspec": {
   "display_name": "Python [conda env:base] *",
   "language": "python",
   "name": "conda-base-py"
  },
  "language_info": {
   "codemirror_mode": {
    "name": "ipython",
    "version": 3
   },
   "file_extension": ".py",
   "mimetype": "text/x-python",
   "name": "python",
   "nbconvert_exporter": "python",
   "pygments_lexer": "ipython3",
   "version": "3.12.7"
  }
 },
 "nbformat": 4,
 "nbformat_minor": 5
}
