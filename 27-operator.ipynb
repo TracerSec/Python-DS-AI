{
 "cells": [
  {
   "cell_type": "markdown",
   "id": "8f1a44ba-2bbc-4d03-838f-7116b8221f13",
   "metadata": {},
   "source": [
    "# Arithmetic Operations in Python"
   ]
  },
  {
   "cell_type": "markdown",
   "id": "cac3435b-0be9-4a9a-b437-778ee978fb86",
   "metadata": {},
   "source": [
    "# Integers"
   ]
  },
  {
   "cell_type": "code",
   "execution_count": 3,
   "id": "324c8d69-14bd-4ef4-ba06-c9d453c36a11",
   "metadata": {},
   "outputs": [
    {
     "name": "stdout",
     "output_type": "stream",
     "text": [
      "Addition:  3\n"
     ]
    }
   ],
   "source": [
    "print('Addition: ', 1 + 2)"
   ]
  },
  {
   "cell_type": "code",
   "execution_count": 5,
   "id": "38c4853f-97f0-446d-82b6-cd75471181d4",
   "metadata": {},
   "outputs": [
    {
     "name": "stdout",
     "output_type": "stream",
     "text": [
      "Subtraction:  1\n"
     ]
    }
   ],
   "source": [
    "print('Subtraction: ', 2 - 1)"
   ]
  },
  {
   "cell_type": "code",
   "execution_count": 7,
   "id": "4bf1b184-7c42-456f-9f8c-c3bae87bd5cc",
   "metadata": {},
   "outputs": [
    {
     "name": "stdout",
     "output_type": "stream",
     "text": [
      "Multiplication:  6\n"
     ]
    }
   ],
   "source": [
    "print('Multiplication: ', 2 * 3)"
   ]
  },
  {
   "cell_type": "code",
   "execution_count": 9,
   "id": "18398c6b-ef27-4db5-93ce-7febf149dc5e",
   "metadata": {},
   "outputs": [
    {
     "name": "stdout",
     "output_type": "stream",
     "text": [
      "Division:  2.0\n"
     ]
    }
   ],
   "source": [
    "print ('Division: ', 4 / 2) "
   ]
  },
  {
   "cell_type": "code",
   "execution_count": 11,
   "id": "5a133895-3757-42d4-94fb-0d65f74c4abf",
   "metadata": {},
   "outputs": [
    {
     "name": "stdout",
     "output_type": "stream",
     "text": [
      "Division:  3.0\n"
     ]
    }
   ],
   "source": [
    "print('Division: ', 6 / 2)"
   ]
  },
  {
   "cell_type": "code",
   "execution_count": 13,
   "id": "4915007b-192e-49e2-b7c1-ad0def10b035",
   "metadata": {},
   "outputs": [
    {
     "name": "stdout",
     "output_type": "stream",
     "text": [
      "Division:  3.5\n"
     ]
    }
   ],
   "source": [
    "print('Division: ', 7 / 2)"
   ]
  },
  {
   "cell_type": "code",
   "execution_count": 15,
   "id": "bd5cc055-c958-449b-b1c8-928234520371",
   "metadata": {},
   "outputs": [
    {
     "name": "stdout",
     "output_type": "stream",
     "text": [
      "Division without the remainder:  3\n"
     ]
    }
   ],
   "source": [
    "print('Division without the remainder: ', 7 // 2)"
   ]
  },
  {
   "cell_type": "code",
   "execution_count": 17,
   "id": "9ddf599d-a37f-4d2b-bf48-876a36af7f0b",
   "metadata": {},
   "outputs": [
    {
     "name": "stdout",
     "output_type": "stream",
     "text": [
      "Modulus:  1\n"
     ]
    }
   ],
   "source": [
    "print('Modulus: ', 3 % 2)   "
   ]
  },
  {
   "cell_type": "code",
   "execution_count": 29,
   "id": "7f41ccd2-33e2-4ee2-8aff-1637b92ead08",
   "metadata": {},
   "outputs": [
    {
     "name": "stdout",
     "output_type": "stream",
     "text": [
      "Division without the remainder:  2\n"
     ]
    }
   ],
   "source": [
    "print ('Division without the remainder: ', 7 // 3)"
   ]
  },
  {
   "cell_type": "code",
   "execution_count": 21,
   "id": "1ad0c92f-d569-4933-a702-17e5a7179e89",
   "metadata": {},
   "outputs": [
    {
     "name": "stdout",
     "output_type": "stream",
     "text": [
      "Exponential:  9\n"
     ]
    }
   ],
   "source": [
    "print('Exponential: ', 3 ** 2)   "
   ]
  },
  {
   "cell_type": "markdown",
   "id": "1e971c3b-d816-44b3-b795-97b1700fff57",
   "metadata": {},
   "source": [
    "# Floating numbers"
   ]
  },
  {
   "cell_type": "code",
   "execution_count": 24,
   "id": "b0cf86b9-b779-406c-85bf-050182452e48",
   "metadata": {},
   "outputs": [
    {
     "name": "stdout",
     "output_type": "stream",
     "text": [
      "Floating Number,PI 3.14\n"
     ]
    }
   ],
   "source": [
    "print('Floating Number,PI', 3.14)"
   ]
  },
  {
   "cell_type": "code",
   "execution_count": 26,
   "id": "8f9bb3be-00f7-44a3-a581-2e23304c68f3",
   "metadata": {},
   "outputs": [
    {
     "name": "stdout",
     "output_type": "stream",
     "text": [
      "Floating Number, gravity 9.81\n"
     ]
    }
   ],
   "source": [
    "print('Floating Number, gravity', 9.81)"
   ]
  },
  {
   "cell_type": "markdown",
   "id": "ce46525c-98a8-40df-8bba-3f8d825e767d",
   "metadata": {},
   "source": [
    "# Complex numbers"
   ]
  },
  {
   "cell_type": "code",
   "execution_count": 31,
   "id": "73cb8538-be02-4de7-b2b0-6562e0969e37",
   "metadata": {},
   "outputs": [
    {
     "name": "stdout",
     "output_type": "stream",
     "text": [
      "Complex number:  (1+1j)\n"
     ]
    }
   ],
   "source": [
    "print('Complex number: ', 1 + 1j)"
   ]
  },
  {
   "cell_type": "code",
   "execution_count": 33,
   "id": "b3a69c22-4cd6-457d-bcbb-5cb296515299",
   "metadata": {},
   "outputs": [
    {
     "name": "stdout",
     "output_type": "stream",
     "text": [
      "Multiplying complex number:  (2+0j)\n"
     ]
    }
   ],
   "source": [
    "print('Multiplying complex number: ',(1 + 1j) * (1-1j))"
   ]
  },
  {
   "cell_type": "markdown",
   "id": "737a5739-7667-4bca-b99d-8a7f277bcdb1",
   "metadata": {},
   "source": [
    "# Declaring the variable at the top first"
   ]
  },
  {
   "cell_type": "code",
   "execution_count": 36,
   "id": "659a0061-8804-4509-b0a6-123a3746f089",
   "metadata": {},
   "outputs": [],
   "source": [
    "a = 3 # a is a variable name and 3 is an integer data type"
   ]
  },
  {
   "cell_type": "code",
   "execution_count": 38,
   "id": "ae56e7a6-1071-4d52-ad54-a52e56e94530",
   "metadata": {},
   "outputs": [],
   "source": [
    "b = 2 # b is a variable name and 3 is an integer data type"
   ]
  },
  {
   "cell_type": "markdown",
   "id": "163b0863-746d-469c-855c-853d3ad517a9",
   "metadata": {},
   "source": [
    "# Arithmetic operations and assigning the result to a variable"
   ]
  },
  {
   "cell_type": "code",
   "execution_count": 41,
   "id": "40c24ce0-8b0d-4340-86ce-59184fcb42f5",
   "metadata": {},
   "outputs": [],
   "source": [
    "total = a + b"
   ]
  },
  {
   "cell_type": "code",
   "execution_count": 43,
   "id": "695020ae-fb0a-496d-87f5-76d9f4762635",
   "metadata": {},
   "outputs": [],
   "source": [
    "diff = a - b"
   ]
  },
  {
   "cell_type": "code",
   "execution_count": 45,
   "id": "f6742bd3-8bf2-4d9a-b2d0-c76757b600f5",
   "metadata": {},
   "outputs": [],
   "source": [
    "product = a * b"
   ]
  },
  {
   "cell_type": "code",
   "execution_count": 47,
   "id": "42c76769-83e9-449a-955e-959162b993e2",
   "metadata": {},
   "outputs": [],
   "source": [
    "division = a / b"
   ]
  },
  {
   "cell_type": "code",
   "execution_count": 49,
   "id": "a6de88d7-b8b9-4c23-ba60-2de130e0c76d",
   "metadata": {},
   "outputs": [],
   "source": [
    "remainder = a % b"
   ]
  },
  {
   "cell_type": "code",
   "execution_count": 51,
   "id": "21a1feea-20fd-4dae-a05c-b3d6bad18aef",
   "metadata": {},
   "outputs": [],
   "source": [
    "floor_division = a // b"
   ]
  },
  {
   "cell_type": "code",
   "execution_count": 53,
   "id": "33c7e3f8-8dfc-4ba6-8e54-6615c43e1576",
   "metadata": {},
   "outputs": [],
   "source": [
    "exponential = a ** b"
   ]
  },
  {
   "cell_type": "code",
   "execution_count": 55,
   "id": "588067a2-1756-4b86-af98-06a42e56dae2",
   "metadata": {},
   "outputs": [
    {
     "name": "stdout",
     "output_type": "stream",
     "text": [
      "5\n"
     ]
    }
   ],
   "source": [
    "print(total)"
   ]
  },
  {
   "cell_type": "code",
   "execution_count": 57,
   "id": "1f9d8f10-4662-4a68-9224-1bcdde79c7d1",
   "metadata": {},
   "outputs": [
    {
     "name": "stdout",
     "output_type": "stream",
     "text": [
      "a + b =  5\n"
     ]
    }
   ],
   "source": [
    "print('a + b = ', total)"
   ]
  },
  {
   "cell_type": "code",
   "execution_count": 59,
   "id": "89b88f58-3c66-4298-925d-4a827c82fd0b",
   "metadata": {},
   "outputs": [
    {
     "name": "stdout",
     "output_type": "stream",
     "text": [
      "a - b =  1\n"
     ]
    }
   ],
   "source": [
    "print('a - b = ', diff)"
   ]
  },
  {
   "cell_type": "code",
   "execution_count": 61,
   "id": "618ea930-e840-49f1-ad01-2a028f6499ce",
   "metadata": {},
   "outputs": [
    {
     "name": "stdout",
     "output_type": "stream",
     "text": [
      "a * b =  6\n"
     ]
    }
   ],
   "source": [
    "print('a * b = ', product)"
   ]
  },
  {
   "cell_type": "code",
   "execution_count": 63,
   "id": "60a0d0e7-8d5d-4502-95f6-0d16145bdf86",
   "metadata": {},
   "outputs": [
    {
     "name": "stdout",
     "output_type": "stream",
     "text": [
      "a / b =  1.5\n"
     ]
    }
   ],
   "source": [
    "print('a / b = ', division)"
   ]
  },
  {
   "cell_type": "code",
   "execution_count": 65,
   "id": "21d7add1-a355-4c8d-b4a5-727b7a4684ac",
   "metadata": {},
   "outputs": [
    {
     "name": "stdout",
     "output_type": "stream",
     "text": [
      "a % b =  1\n"
     ]
    }
   ],
   "source": [
    "print('a % b = ', remainder)"
   ]
  },
  {
   "cell_type": "code",
   "execution_count": 67,
   "id": "ac90d4a8-1c8c-4d21-847b-492af5c12364",
   "metadata": {},
   "outputs": [
    {
     "name": "stdout",
     "output_type": "stream",
     "text": [
      "a // b =  1\n"
     ]
    }
   ],
   "source": [
    "print('a // b = ', floor_division)"
   ]
  },
  {
   "cell_type": "code",
   "execution_count": 69,
   "id": "4e7deca4-9f29-4b4a-88ab-ddd67cb69424",
   "metadata": {},
   "outputs": [
    {
     "name": "stdout",
     "output_type": "stream",
     "text": [
      "a ** b =  9\n"
     ]
    }
   ],
   "source": [
    "print('a ** b = ', exponential)"
   ]
  },
  {
   "cell_type": "markdown",
   "id": "a72a18ca-68bb-4ef4-a509-80bde8fae172",
   "metadata": {},
   "source": [
    "# Declaring values and organizing them together"
   ]
  },
  {
   "cell_type": "code",
   "execution_count": 72,
   "id": "b91a4ae1-98d4-4406-9358-0e4f87efcd00",
   "metadata": {},
   "outputs": [],
   "source": [
    "num_one = 3\n",
    "num_two = 4"
   ]
  },
  {
   "cell_type": "markdown",
   "id": "1f3a8aa9-b7f2-4ae9-a05d-3cc16a223e9d",
   "metadata": {},
   "source": [
    "# Arithmetic operations"
   ]
  },
  {
   "cell_type": "code",
   "execution_count": 75,
   "id": "52fb8c3d-6d5f-4ce5-8df0-45bab47618d9",
   "metadata": {},
   "outputs": [],
   "source": [
    "total = num_one + num_two\n",
    "diff = num_two - num_one\n",
    "product = num_one * num_two\n",
    "div = num_two / num_two\n",
    "remainder = num_two % num_one"
   ]
  },
  {
   "cell_type": "markdown",
   "id": "74e009d7-f5a8-4ff8-9f22-ebaeead9620d",
   "metadata": {},
   "source": [
    "# Printing values with label"
   ]
  },
  {
   "cell_type": "code",
   "execution_count": 78,
   "id": "f42bc797-13ce-4a6e-990e-48c432b57919",
   "metadata": {},
   "outputs": [
    {
     "name": "stdout",
     "output_type": "stream",
     "text": [
      "total:  7\n",
      "difference:  1\n",
      "product:  12\n",
      "division:  1.0\n",
      "remainder:  1\n"
     ]
    }
   ],
   "source": [
    "print('total: ', total)\n",
    "print('difference: ', diff)\n",
    "print('product: ', product)\n",
    "print('division: ', div)\n",
    "print('remainder: ', remainder)\n"
   ]
  },
  {
   "cell_type": "markdown",
   "id": "7a920589-5fae-4e1f-84b0-9e72d2b79837",
   "metadata": {},
   "source": [
    "# Calculating area of a circle"
   ]
  },
  {
   "cell_type": "code",
   "execution_count": 81,
   "id": "626c0f58-5d8c-4f71-8259-8408308b1548",
   "metadata": {},
   "outputs": [
    {
     "name": "stdout",
     "output_type": "stream",
     "text": [
      "Area of a circle: 314.0\n"
     ]
    }
   ],
   "source": [
    "radius = 10                                 # radius of a circle\n",
    "area_of_circle = 3.14 * radius ** 2         # two * sign means exponent or power\n",
    "print('Area of a circle:', area_of_circle)"
   ]
  },
  {
   "cell_type": "markdown",
   "id": "f218e86d-2f9e-46eb-87a7-e07d17d5e449",
   "metadata": {},
   "source": [
    "# Calculating area of a rectangle"
   ]
  },
  {
   "cell_type": "code",
   "execution_count": 84,
   "id": "d484bce1-1b83-4e12-bae2-05f26b401b74",
   "metadata": {},
   "outputs": [
    {
     "name": "stdout",
     "output_type": "stream",
     "text": [
      "Area of rectangle: 200\n"
     ]
    }
   ],
   "source": [
    "length = 10\n",
    "width = 20\n",
    "area_of_rectangle = length * width\n",
    "print('Area of rectangle:', area_of_rectangle)"
   ]
  },
  {
   "cell_type": "markdown",
   "id": "5c400d3c-d6e2-468a-8466-38b83c183a52",
   "metadata": {},
   "source": [
    "# Calculating a weight of an object"
   ]
  },
  {
   "cell_type": "code",
   "execution_count": 87,
   "id": "c93a51d6-2c4b-44fb-bf5e-72ba03f074f8",
   "metadata": {},
   "outputs": [
    {
     "name": "stdout",
     "output_type": "stream",
     "text": [
      "735.75 N\n"
     ]
    }
   ],
   "source": [
    "mass = 75\n",
    "gravity = 9.81\n",
    "weight = mass * gravity\n",
    "print(weight, 'N')\n"
   ]
  },
  {
   "cell_type": "code",
   "execution_count": 89,
   "id": "634bb03a-6d43-412d-9ec4-eb526b4f2503",
   "metadata": {},
   "outputs": [
    {
     "name": "stdout",
     "output_type": "stream",
     "text": [
      "True\n"
     ]
    }
   ],
   "source": [
    "print(3 > 2)"
   ]
  },
  {
   "cell_type": "code",
   "execution_count": 91,
   "id": "1f9bdc30-ec23-49c5-a40d-c01004eb8025",
   "metadata": {},
   "outputs": [
    {
     "name": "stdout",
     "output_type": "stream",
     "text": [
      "True\n"
     ]
    }
   ],
   "source": [
    "print(3 >= 2) "
   ]
  },
  {
   "cell_type": "code",
   "execution_count": 93,
   "id": "327df3d9-8f1d-49c4-803d-b3461af4e159",
   "metadata": {},
   "outputs": [
    {
     "name": "stdout",
     "output_type": "stream",
     "text": [
      "False\n"
     ]
    }
   ],
   "source": [
    "print(3 < 2)"
   ]
  },
  {
   "cell_type": "code",
   "execution_count": 95,
   "id": "a940f7c3-e99d-4714-afa7-940425b5ca7f",
   "metadata": {},
   "outputs": [
    {
     "name": "stdout",
     "output_type": "stream",
     "text": [
      "True\n"
     ]
    }
   ],
   "source": [
    "print(2 < 3) "
   ]
  },
  {
   "cell_type": "code",
   "execution_count": 97,
   "id": "985f17d5-9daf-4303-aa61-b96eaee4161d",
   "metadata": {},
   "outputs": [
    {
     "name": "stdout",
     "output_type": "stream",
     "text": [
      "True\n"
     ]
    }
   ],
   "source": [
    "print(2 <= 3)"
   ]
  },
  {
   "cell_type": "code",
   "execution_count": 99,
   "id": "3ef6296e-a1e4-4b5c-8387-d6b4d1421c80",
   "metadata": {},
   "outputs": [
    {
     "name": "stdout",
     "output_type": "stream",
     "text": [
      "False\n"
     ]
    }
   ],
   "source": [
    "print(3 == 2)"
   ]
  },
  {
   "cell_type": "code",
   "execution_count": 101,
   "id": "4e55d9f3-a7e0-40f6-bdde-c81d39c79daf",
   "metadata": {},
   "outputs": [
    {
     "name": "stdout",
     "output_type": "stream",
     "text": [
      "True\n"
     ]
    }
   ],
   "source": [
    "print(3 != 2)  "
   ]
  },
  {
   "cell_type": "code",
   "execution_count": 103,
   "id": "c5bf055a-13fc-4595-8b8b-19ecec18d597",
   "metadata": {},
   "outputs": [
    {
     "name": "stdout",
     "output_type": "stream",
     "text": [
      "False\n"
     ]
    }
   ],
   "source": [
    "print(len('mango') == len('avocado')) "
   ]
  },
  {
   "cell_type": "code",
   "execution_count": 105,
   "id": "041fd1bc-4439-4eed-bd96-4e39c84f2807",
   "metadata": {},
   "outputs": [
    {
     "name": "stdout",
     "output_type": "stream",
     "text": [
      "True\n"
     ]
    }
   ],
   "source": [
    "print(len('mango') != len('avocado')) "
   ]
  },
  {
   "cell_type": "code",
   "execution_count": 107,
   "id": "cbf8e28e-4b26-409d-a361-5a9c50a4ae46",
   "metadata": {},
   "outputs": [
    {
     "name": "stdout",
     "output_type": "stream",
     "text": [
      "True\n"
     ]
    }
   ],
   "source": [
    "print(len('mango') < len('avocado'))"
   ]
  },
  {
   "cell_type": "code",
   "execution_count": 109,
   "id": "e093f175-ae0d-42d8-b77b-c61d7665f225",
   "metadata": {},
   "outputs": [
    {
     "name": "stdout",
     "output_type": "stream",
     "text": [
      "False\n"
     ]
    }
   ],
   "source": [
    "print(len('milk') != len('meat'))  "
   ]
  },
  {
   "cell_type": "code",
   "execution_count": 111,
   "id": "212e474f-31b1-4e1a-bac2-b1f3773d1aca",
   "metadata": {},
   "outputs": [
    {
     "name": "stdout",
     "output_type": "stream",
     "text": [
      "True\n"
     ]
    }
   ],
   "source": [
    "print(len('milk') == len('meat'))   "
   ]
  },
  {
   "cell_type": "code",
   "execution_count": 113,
   "id": "46dd4030-3701-4b56-880a-3d1809d1f0e4",
   "metadata": {},
   "outputs": [
    {
     "name": "stdout",
     "output_type": "stream",
     "text": [
      "True\n"
     ]
    }
   ],
   "source": [
    "print(len('tomato') == len('potato')) "
   ]
  },
  {
   "cell_type": "code",
   "execution_count": 115,
   "id": "dbf3c73c-9d35-47e7-a34c-17a05b805a79",
   "metadata": {},
   "outputs": [
    {
     "name": "stdout",
     "output_type": "stream",
     "text": [
      "False\n"
     ]
    }
   ],
   "source": [
    "print(len('python') > len('dragon'))"
   ]
  },
  {
   "cell_type": "markdown",
   "id": "a6d013f2-534b-4db1-8775-1cd1d548ade5",
   "metadata": {},
   "source": [
    "# Boolean comparison"
   ]
  },
  {
   "cell_type": "code",
   "execution_count": 118,
   "id": "d5c5d470-fbc4-437a-89be-a9b46af6a185",
   "metadata": {},
   "outputs": [
    {
     "name": "stdout",
     "output_type": "stream",
     "text": [
      "True == True:  True\n"
     ]
    }
   ],
   "source": [
    "print('True == True: ', True == True)"
   ]
  },
  {
   "cell_type": "code",
   "execution_count": 120,
   "id": "ccb87b77-1736-45f3-88a8-01a29bf19900",
   "metadata": {},
   "outputs": [
    {
     "name": "stdout",
     "output_type": "stream",
     "text": [
      "True == False:  False\n"
     ]
    }
   ],
   "source": [
    "print('True == False: ', True == False)"
   ]
  },
  {
   "cell_type": "code",
   "execution_count": 122,
   "id": "09294c10-cc5c-4d00-baeb-b68394c647ce",
   "metadata": {},
   "outputs": [
    {
     "name": "stdout",
     "output_type": "stream",
     "text": [
      "False == False: True\n"
     ]
    }
   ],
   "source": [
    "print('False == False:', False == False)"
   ]
  },
  {
   "cell_type": "code",
   "execution_count": 124,
   "id": "c9eedb79-fff1-4ffb-8f0e-be08f902c217",
   "metadata": {},
   "outputs": [
    {
     "name": "stdout",
     "output_type": "stream",
     "text": [
      "True and True:  True\n"
     ]
    }
   ],
   "source": [
    "print('True and True: ', True and True)"
   ]
  },
  {
   "cell_type": "code",
   "execution_count": 126,
   "id": "b076ba8f-343f-445d-b2d3-b845e404dafe",
   "metadata": {},
   "outputs": [
    {
     "name": "stdout",
     "output_type": "stream",
     "text": [
      "True or False: True\n"
     ]
    }
   ],
   "source": [
    "print('True or False:', True or False)"
   ]
  },
  {
   "cell_type": "markdown",
   "id": "2a70d4d2-c896-4b67-8fd7-ac2587b7713f",
   "metadata": {},
   "source": [
    "# Another way comparison "
   ]
  },
  {
   "cell_type": "code",
   "execution_count": 129,
   "id": "3aa82631-a65f-4698-bb66-8dbd27a45ee4",
   "metadata": {},
   "outputs": [
    {
     "name": "stdout",
     "output_type": "stream",
     "text": [
      "1 is 1 True\n"
     ]
    },
    {
     "name": "stderr",
     "output_type": "stream",
     "text": [
      "<>:1: SyntaxWarning: \"is\" with 'int' literal. Did you mean \"==\"?\n",
      "<>:1: SyntaxWarning: \"is\" with 'int' literal. Did you mean \"==\"?\n",
      "C:\\Users\\Romila\\AppData\\Local\\Temp\\ipykernel_15056\\1839276060.py:1: SyntaxWarning: \"is\" with 'int' literal. Did you mean \"==\"?\n",
      "  print('1 is 1', 1 is 1)\n"
     ]
    }
   ],
   "source": [
    "print('1 is 1', 1 is 1) "
   ]
  },
  {
   "cell_type": "code",
   "execution_count": 131,
   "id": "72b7e118-2a51-438c-ae38-fd2eb1eba585",
   "metadata": {},
   "outputs": [
    {
     "name": "stdout",
     "output_type": "stream",
     "text": [
      "1 is not 2 True\n"
     ]
    },
    {
     "name": "stderr",
     "output_type": "stream",
     "text": [
      "<>:1: SyntaxWarning: \"is not\" with 'int' literal. Did you mean \"!=\"?\n",
      "<>:1: SyntaxWarning: \"is not\" with 'int' literal. Did you mean \"!=\"?\n",
      "C:\\Users\\Romila\\AppData\\Local\\Temp\\ipykernel_15056\\2684715621.py:1: SyntaxWarning: \"is not\" with 'int' literal. Did you mean \"!=\"?\n",
      "  print('1 is not 2', 1 is not 2)\n"
     ]
    }
   ],
   "source": [
    "print('1 is not 2', 1 is not 2)"
   ]
  },
  {
   "cell_type": "code",
   "execution_count": 133,
   "id": "ad922d75-ed25-4d9d-98ff-a25e61550e04",
   "metadata": {},
   "outputs": [
    {
     "name": "stdout",
     "output_type": "stream",
     "text": [
      "A in Asabeneh True\n"
     ]
    }
   ],
   "source": [
    "print('A in Asabeneh', 'A' in 'Asabeneh')"
   ]
  },
  {
   "cell_type": "code",
   "execution_count": 135,
   "id": "467f7d54-226e-49e9-9880-1149d0a52fc5",
   "metadata": {},
   "outputs": [
    {
     "name": "stdout",
     "output_type": "stream",
     "text": [
      "B in Asabeneh False\n"
     ]
    }
   ],
   "source": [
    "print('B in Asabeneh', 'B' in 'Asabeneh')"
   ]
  },
  {
   "cell_type": "code",
   "execution_count": 137,
   "id": "1575c63e-f9cf-403c-b518-27a0bf20b171",
   "metadata": {},
   "outputs": [
    {
     "name": "stdout",
     "output_type": "stream",
     "text": [
      "True\n"
     ]
    }
   ],
   "source": [
    "print('coding' in 'coding for all')"
   ]
  },
  {
   "cell_type": "code",
   "execution_count": 139,
   "id": "a3d4aacb-49ca-4fa6-b7d7-d592205bf49c",
   "metadata": {},
   "outputs": [
    {
     "name": "stdout",
     "output_type": "stream",
     "text": [
      "a in an: True\n"
     ]
    }
   ],
   "source": [
    "print('a in an:', 'a' in 'an')"
   ]
  },
  {
   "cell_type": "code",
   "execution_count": 141,
   "id": "948d4b28-fa15-4bf2-a9b9-0af3dbfda230",
   "metadata": {},
   "outputs": [
    {
     "name": "stdout",
     "output_type": "stream",
     "text": [
      "4 is 2 ** 2: True\n"
     ]
    },
    {
     "name": "stderr",
     "output_type": "stream",
     "text": [
      "<>:1: SyntaxWarning: \"is\" with 'int' literal. Did you mean \"==\"?\n",
      "<>:1: SyntaxWarning: \"is\" with 'int' literal. Did you mean \"==\"?\n",
      "C:\\Users\\Romila\\AppData\\Local\\Temp\\ipykernel_15056\\2267984047.py:1: SyntaxWarning: \"is\" with 'int' literal. Did you mean \"==\"?\n",
      "  print('4 is 2 ** 2:', 4 is 2 ** 2)\n"
     ]
    }
   ],
   "source": [
    "print('4 is 2 ** 2:', 4 is 2 ** 2)"
   ]
  },
  {
   "cell_type": "code",
   "execution_count": 143,
   "id": "88f623b2-f3c0-4407-9a98-6cb295454977",
   "metadata": {},
   "outputs": [
    {
     "name": "stdout",
     "output_type": "stream",
     "text": [
      "True\n"
     ]
    }
   ],
   "source": [
    "print(3 > 2 and 4 > 3)"
   ]
  },
  {
   "cell_type": "code",
   "execution_count": 145,
   "id": "4aeed9de-cd73-4d6c-a530-8c929f2b6694",
   "metadata": {},
   "outputs": [
    {
     "name": "stdout",
     "output_type": "stream",
     "text": [
      "False\n"
     ]
    }
   ],
   "source": [
    "print(3 > 2 and 4 < 3)"
   ]
  },
  {
   "cell_type": "code",
   "execution_count": 147,
   "id": "08f7c4d2-95e1-4dd7-a36f-6c56f76c9936",
   "metadata": {},
   "outputs": [
    {
     "name": "stdout",
     "output_type": "stream",
     "text": [
      "False\n"
     ]
    }
   ],
   "source": [
    "print(3 < 2 and 4 < 3)"
   ]
  },
  {
   "cell_type": "code",
   "execution_count": 149,
   "id": "f88bdc3d-b2ee-4b3f-8709-1e27f8953b7f",
   "metadata": {},
   "outputs": [
    {
     "name": "stdout",
     "output_type": "stream",
     "text": [
      "True\n"
     ]
    }
   ],
   "source": [
    "print(3 > 2 or 4 > 3)"
   ]
  },
  {
   "cell_type": "code",
   "execution_count": 151,
   "id": "8232fbe5-195a-457e-9f75-17ef6d922ac8",
   "metadata": {},
   "outputs": [
    {
     "name": "stdout",
     "output_type": "stream",
     "text": [
      "True\n"
     ]
    }
   ],
   "source": [
    "print(3 > 2 or 4 < 3)"
   ]
  },
  {
   "cell_type": "code",
   "execution_count": 153,
   "id": "b89e0e59-0b6c-4ccc-a3d5-454993c13998",
   "metadata": {},
   "outputs": [
    {
     "name": "stdout",
     "output_type": "stream",
     "text": [
      "False\n"
     ]
    }
   ],
   "source": [
    "print(3 < 2 or 4 < 3)"
   ]
  },
  {
   "cell_type": "code",
   "execution_count": 155,
   "id": "2849c687-c821-4ec9-a4fb-ae366808ca51",
   "metadata": {},
   "outputs": [
    {
     "name": "stdout",
     "output_type": "stream",
     "text": [
      "False\n"
     ]
    }
   ],
   "source": [
    "print(not 3 > 2)"
   ]
  },
  {
   "cell_type": "code",
   "execution_count": 157,
   "id": "aca92423-cbbd-4abe-b310-7c8a25b304b3",
   "metadata": {},
   "outputs": [
    {
     "name": "stdout",
     "output_type": "stream",
     "text": [
      "False\n"
     ]
    }
   ],
   "source": [
    "print(not True) "
   ]
  },
  {
   "cell_type": "code",
   "execution_count": 159,
   "id": "55f8387c-5d26-44af-add7-e90d68f175a0",
   "metadata": {},
   "outputs": [
    {
     "name": "stdout",
     "output_type": "stream",
     "text": [
      "True\n"
     ]
    }
   ],
   "source": [
    "print(not False) "
   ]
  },
  {
   "cell_type": "code",
   "execution_count": 161,
   "id": "4e31e447-e666-41a4-8d8e-48ddcbb1898f",
   "metadata": {},
   "outputs": [
    {
     "name": "stdout",
     "output_type": "stream",
     "text": [
      "True\n"
     ]
    }
   ],
   "source": [
    "print(not not True)"
   ]
  },
  {
   "cell_type": "code",
   "execution_count": 163,
   "id": "b87290b0-f2f6-4d1e-9831-0e0e0d8fb694",
   "metadata": {},
   "outputs": [
    {
     "name": "stdout",
     "output_type": "stream",
     "text": [
      "False\n"
     ]
    }
   ],
   "source": [
    "print(not not False)"
   ]
  },
  {
   "cell_type": "code",
   "execution_count": null,
   "id": "3fdb100e-05f4-4925-8278-68d30c7441f1",
   "metadata": {},
   "outputs": [],
   "source": []
  }
 ],
 "metadata": {
  "kernelspec": {
   "display_name": "Python [conda env:base] *",
   "language": "python",
   "name": "conda-base-py"
  },
  "language_info": {
   "codemirror_mode": {
    "name": "ipython",
    "version": 3
   },
   "file_extension": ".py",
   "mimetype": "text/x-python",
   "name": "python",
   "nbconvert_exporter": "python",
   "pygments_lexer": "ipython3",
   "version": "3.12.7"
  }
 },
 "nbformat": 4,
 "nbformat_minor": 5
}
