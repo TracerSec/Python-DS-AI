{
 "cells": [
  {
   "cell_type": "markdown",
   "id": "308505e3-65e1-41c0-b38b-8753d9a0bf0f",
   "metadata": {},
   "source": [
    "1. Array Creation Functions"
   ]
  },
  {
   "cell_type": "code",
   "execution_count": 2,
   "id": "ffbe1abb-54f3-44d9-b942-70316eaf0ea0",
   "metadata": {},
   "outputs": [],
   "source": [
    "import numpy as np"
   ]
  },
  {
   "cell_type": "code",
   "execution_count": 4,
   "id": "5abe170b-68c1-4098-861f-213f04fed87c",
   "metadata": {},
   "outputs": [
    {
     "name": "stdout",
     "output_type": "stream",
     "text": [
      "Array a: [1 2 3]\n"
     ]
    }
   ],
   "source": [
    "a = np.array([1, 2, 3])\n",
    "print(\"Array a:\", a)"
   ]
  },
  {
   "cell_type": "code",
   "execution_count": 6,
   "id": "0394b424-c107-4514-b8ab-015f4e56c6c7",
   "metadata": {},
   "outputs": [
    {
     "name": "stdout",
     "output_type": "stream",
     "text": [
      "Array b: [0 2 4 6 8]\n"
     ]
    }
   ],
   "source": [
    "b = np.arange(0, 10, 2) \n",
    "print(\"Array b:\", b)"
   ]
  },
  {
   "cell_type": "code",
   "execution_count": 10,
   "id": "a170129f-3782-4c2e-a745-779fd3b8c0d5",
   "metadata": {},
   "outputs": [
    {
     "name": "stdout",
     "output_type": "stream",
     "text": [
      "Array c: [0.   0.25 0.5  0.75 1.  ]\n"
     ]
    }
   ],
   "source": [
    "c = np.linspace(0, 1, 5)  \n",
    "print(\"Array c:\", c)"
   ]
  },
  {
   "cell_type": "code",
   "execution_count": 12,
   "id": "012e0c4a-d132-4a49-bbbd-bbc1fe86342c",
   "metadata": {},
   "outputs": [
    {
     "name": "stdout",
     "output_type": "stream",
     "text": [
      "Array d:\n",
      " [[0. 0. 0.]\n",
      " [0. 0. 0.]]\n"
     ]
    }
   ],
   "source": [
    "d = np.zeros((2, 3))  \n",
    "print(\"Array d:\\n\", d)"
   ]
  },
  {
   "cell_type": "code",
   "execution_count": 14,
   "id": "3ab7f8be-0637-4b52-b551-d86c83b6bd9c",
   "metadata": {},
   "outputs": [
    {
     "name": "stdout",
     "output_type": "stream",
     "text": [
      "Array e:\n",
      " [[1. 1.]\n",
      " [1. 1.]\n",
      " [1. 1.]]\n"
     ]
    }
   ],
   "source": [
    "e = np.ones((3, 2)) \n",
    "print(\"Array e:\\n\", e)"
   ]
  },
  {
   "cell_type": "code",
   "execution_count": 16,
   "id": "0b69e74f-03ed-4374-8d1d-035f58e35308",
   "metadata": {},
   "outputs": [
    {
     "name": "stdout",
     "output_type": "stream",
     "text": [
      "Identity matrix f:\n",
      " [[1. 0. 0. 0.]\n",
      " [0. 1. 0. 0.]\n",
      " [0. 0. 1. 0.]\n",
      " [0. 0. 0. 1.]]\n"
     ]
    }
   ],
   "source": [
    "f = np.eye(4)  \n",
    "print(\"Identity matrix f:\\n\", f)"
   ]
  },
  {
   "cell_type": "markdown",
   "id": "de0c4a20-e9b6-441b-ac23-82f5f66f5740",
   "metadata": {},
   "source": [
    "2. Array Manipulation Functions\n",
    "   "
   ]
  },
  {
   "cell_type": "code",
   "execution_count": 19,
   "id": "738008cf-93eb-431f-9a51-19e2c0665140",
   "metadata": {},
   "outputs": [
    {
     "name": "stdout",
     "output_type": "stream",
     "text": [
      "Reshaped array: [[1 2 3]]\n"
     ]
    }
   ],
   "source": [
    "a1 = np.array([1, 2, 3])\n",
    "reshaped = np.reshape(a1, (1, 3))  # Reshape to 1x3\n",
    "print(\"Reshaped array:\", reshaped)"
   ]
  },
  {
   "cell_type": "code",
   "execution_count": 21,
   "id": "13d4a995-f1dd-4b79-b88d-6d21fe7bb8f4",
   "metadata": {},
   "outputs": [
    {
     "name": "stdout",
     "output_type": "stream",
     "text": [
      "Flattened array: [1 2 3 4]\n"
     ]
    }
   ],
   "source": [
    "f1 = np.array([[1, 2], [3, 4]])\n",
    "flattened = np.ravel(f1)  # Flatten to 1D array\n",
    "print(\"Flattened array:\", flattened)"
   ]
  },
  {
   "cell_type": "code",
   "execution_count": 23,
   "id": "2d6bc141-2a06-42ed-9272-692b38ed5fa1",
   "metadata": {},
   "outputs": [
    {
     "name": "stdout",
     "output_type": "stream",
     "text": [
      "Transposed array:\n",
      " [[1 3]\n",
      " [2 4]]\n"
     ]
    }
   ],
   "source": [
    "e1 = np.array([[1, 2], [3, 4]])\n",
    "transposed = np.transpose(e1)  # Transpose the array\n",
    "print(\"Transposed array:\\n\", transposed)"
   ]
  },
  {
   "cell_type": "code",
   "execution_count": 25,
   "id": "3fce20ae-6e2b-432b-8754-e991a73454af",
   "metadata": {},
   "outputs": [
    {
     "name": "stdout",
     "output_type": "stream",
     "text": [
      "Stacked arrays:\n",
      " [[1 2]\n",
      " [3 4]]\n"
     ]
    }
   ],
   "source": [
    "a2 = np.array([1, 2])\n",
    "b2 = np.array([3, 4])\n",
    "stacked = np.vstack([a2, b2])  # Stack a and b vertically\n",
    "print(\"Stacked arrays:\\n\", stacked)"
   ]
  },
  {
   "cell_type": "markdown",
   "id": "531f5795-b964-4042-b3f2-f0fb41f80bd8",
   "metadata": {},
   "source": [
    "3. Mathematical Functions"
   ]
  },
  {
   "cell_type": "code",
   "execution_count": 28,
   "id": "c45745ce-39a5-445b-bc70-2ddf067890bd",
   "metadata": {},
   "outputs": [
    {
     "name": "stdout",
     "output_type": "stream",
     "text": [
      "Added 2 to g: [3 4 5 6]\n"
     ]
    }
   ],
   "source": [
    "g = np.array([1, 2, 3, 4])\n",
    "added = np.add(g, 2)  # Add 2 to each element\n",
    "print(\"Added 2 to g:\", added)"
   ]
  },
  {
   "cell_type": "code",
   "execution_count": 30,
   "id": "1576369f-93f0-427b-b534-e9673bf00bfc",
   "metadata": {},
   "outputs": [
    {
     "name": "stdout",
     "output_type": "stream",
     "text": [
      "Squared g: [ 1  4  9 16]\n"
     ]
    }
   ],
   "source": [
    "squared = np.power(g, 2)  # Square each element\n",
    "print(\"Squared g:\", squared)"
   ]
  },
  {
   "cell_type": "code",
   "execution_count": 32,
   "id": "8eb9bede-42c2-4ec1-9ca1-436e8de2e7d8",
   "metadata": {},
   "outputs": [
    {
     "name": "stdout",
     "output_type": "stream",
     "text": [
      "Square root of g: [1.         1.41421356 1.73205081 2.        ]\n"
     ]
    }
   ],
   "source": [
    "sqrt_val = np.sqrt(g)  # Square root of each element\n",
    "print(\"Square root of g:\", sqrt_val)"
   ]
  },
  {
   "cell_type": "code",
   "execution_count": 34,
   "id": "9595b7cc-38d0-4863-b9bf-f8dda92f4b76",
   "metadata": {},
   "outputs": [
    {
     "name": "stdout",
     "output_type": "stream",
     "text": [
      "[1 2 3]\n",
      "[1 2 3 4]\n"
     ]
    }
   ],
   "source": [
    "print(a1)\n",
    "print(g)"
   ]
  },
  {
   "cell_type": "code",
   "execution_count": 36,
   "id": "821182a4-16ac-4d47-802f-89abd07bf40d",
   "metadata": {},
   "outputs": [
    {
     "ename": "ValueError",
     "evalue": "shapes (3,) and (4,) not aligned: 3 (dim 0) != 4 (dim 0)",
     "output_type": "error",
     "traceback": [
      "\u001b[1;31m---------------------------------------------------------------------------\u001b[0m",
      "\u001b[1;31mValueError\u001b[0m                                Traceback (most recent call last)",
      "Cell \u001b[1;32mIn[36], line 2\u001b[0m\n\u001b[0;32m      1\u001b[0m a2 \u001b[38;5;241m=\u001b[39m np\u001b[38;5;241m.\u001b[39marray([\u001b[38;5;241m1\u001b[39m, \u001b[38;5;241m2\u001b[39m, \u001b[38;5;241m3\u001b[39m])\n\u001b[1;32m----> 2\u001b[0m dot_product \u001b[38;5;241m=\u001b[39m np\u001b[38;5;241m.\u001b[39mdot(a2, g)  \u001b[38;5;66;03m# Dot product of a and g\u001b[39;00m\n\u001b[0;32m      3\u001b[0m \u001b[38;5;28mprint\u001b[39m(\u001b[38;5;124m\"\u001b[39m\u001b[38;5;124mDot product of a and g:\u001b[39m\u001b[38;5;124m\"\u001b[39m, dot_product)\n",
      "\u001b[1;31mValueError\u001b[0m: shapes (3,) and (4,) not aligned: 3 (dim 0) != 4 (dim 0)"
     ]
    }
   ],
   "source": [
    "a2 = np.array([1, 2, 3])\n",
    "dot_product = np.dot(a2, g)  # Dot product of a and g\n",
    "print(\"Dot product of a and g:\", dot_product)"
   ]
  },
  {
   "cell_type": "code",
   "execution_count": 38,
   "id": "47cac18f-ba30-4c4b-b184-b2d987651146",
   "metadata": {},
   "outputs": [
    {
     "name": "stdout",
     "output_type": "stream",
     "text": [
      "[1 2 3]\n",
      "[1 2 3]\n"
     ]
    }
   ],
   "source": [
    "print(a)\n",
    "print(a1)\n"
   ]
  },
  {
   "cell_type": "code",
   "execution_count": 40,
   "id": "cafd2cc8-78a5-49b1-9ccd-42b553326eec",
   "metadata": {},
   "outputs": [
    {
     "name": "stdout",
     "output_type": "stream",
     "text": [
      "Dot product of a1 and a: 14\n"
     ]
    }
   ],
   "source": [
    "a3 = np.array([1, 2, 3])\n",
    "dot_product = np.dot(a1, a)  # Dot product of a and g\n",
    "print(\"Dot product of a1 and a:\", dot_product)"
   ]
  },
  {
   "cell_type": "markdown",
   "id": "c2932d3c-f8c9-4488-b0f5-a9e783f35ec7",
   "metadata": {},
   "source": [
    "4. Statistical Functions\n",
    "   "
   ]
  },
  {
   "cell_type": "code",
   "execution_count": 43,
   "id": "0caab8e0-0ca5-4ac6-be4c-313e27679aa6",
   "metadata": {},
   "outputs": [
    {
     "name": "stdout",
     "output_type": "stream",
     "text": [
      "Mean of s: 2.5\n"
     ]
    }
   ],
   "source": [
    "s = np.array([1, 2, 3, 4])\n",
    "mean = np.mean(s)\n",
    "print(\"Mean of s:\", mean)"
   ]
  },
  {
   "cell_type": "code",
   "execution_count": 45,
   "id": "482b8faf-5f40-4fac-9d35-c6e03c8abf3a",
   "metadata": {},
   "outputs": [
    {
     "name": "stdout",
     "output_type": "stream",
     "text": [
      "Standard deviation of s: 1.118033988749895\n"
     ]
    }
   ],
   "source": [
    "std_dev = np.std(s)\n",
    "print(\"Standard deviation of s:\", std_dev)"
   ]
  },
  {
   "cell_type": "code",
   "execution_count": 47,
   "id": "e55394c8-64fc-4fd9-b0cf-7eb09a559195",
   "metadata": {},
   "outputs": [
    {
     "name": "stdout",
     "output_type": "stream",
     "text": [
      "Min of s: 1\n"
     ]
    }
   ],
   "source": [
    "minimum = np.min(s)\n",
    "print(\"Min of s:\", minimum)"
   ]
  },
  {
   "cell_type": "code",
   "execution_count": 49,
   "id": "64ef9824-2f1b-4ec6-8714-1c308863f77b",
   "metadata": {},
   "outputs": [
    {
     "name": "stdout",
     "output_type": "stream",
     "text": [
      "Max of s: 4\n"
     ]
    }
   ],
   "source": [
    "maximum = np.max(s)\n",
    "print(\"Max of s:\", maximum)"
   ]
  },
  {
   "cell_type": "markdown",
   "id": "0d6ca281-82b7-4ec4-a9f3-357e19508c88",
   "metadata": {},
   "source": [
    "5. Linear Algebra Functions"
   ]
  },
  {
   "cell_type": "code",
   "execution_count": 52,
   "id": "8fa2a836-91a6-41d1-ac96-89f4bda3c01a",
   "metadata": {},
   "outputs": [],
   "source": [
    "matrix = np.array([[1, 2], [3, 4]])"
   ]
  },
  {
   "cell_type": "code",
   "execution_count": 54,
   "id": "73d8466d-611f-487b-9774-c07ac493b686",
   "metadata": {},
   "outputs": [
    {
     "name": "stdout",
     "output_type": "stream",
     "text": [
      "Determinant of matrix: -2.0000000000000004\n"
     ]
    }
   ],
   "source": [
    "determinant = np.linalg.det(matrix)\n",
    "print(\"Determinant of matrix:\", determinant)"
   ]
  },
  {
   "cell_type": "code",
   "execution_count": 56,
   "id": "c980203f-7f1c-4442-8ec9-8d9b74120a72",
   "metadata": {},
   "outputs": [
    {
     "name": "stdout",
     "output_type": "stream",
     "text": [
      "Inverse of matrix:\n",
      " [[-2.   1. ]\n",
      " [ 1.5 -0.5]]\n"
     ]
    }
   ],
   "source": [
    "inverse = np.linalg.inv(matrix)\n",
    "print(\"Inverse of matrix:\\n\", inverse)"
   ]
  },
  {
   "cell_type": "markdown",
   "id": "d50ce66a-bc69-49b2-933f-00f4e4b4eebe",
   "metadata": {},
   "source": [
    "6. Random Sampling Functions"
   ]
  },
  {
   "cell_type": "code",
   "execution_count": 59,
   "id": "12961ed1-fcdf-4b5b-aee6-3e767e4b2bc1",
   "metadata": {},
   "outputs": [
    {
     "name": "stdout",
     "output_type": "stream",
     "text": [
      "Random values: [0.4111611  0.4118112  0.49605313]\n"
     ]
    }
   ],
   "source": [
    "random_vals = np.random.rand(3)  \n",
    "print(\"Random values:\", random_vals)"
   ]
  },
  {
   "cell_type": "code",
   "execution_count": 61,
   "id": "57a462a0-4c35-4648-adc7-189b630f0a3d",
   "metadata": {},
   "outputs": [
    {
     "name": "stdout",
     "output_type": "stream",
     "text": [
      "Random values: [0.5488135  0.71518937 0.60276338]\n"
     ]
    }
   ],
   "source": [
    "np.random.seed(0)\n",
    "\n",
    "random_vals = np.random.rand(3)  \n",
    "print(\"Random values:\", random_vals)"
   ]
  },
  {
   "cell_type": "code",
   "execution_count": 63,
   "id": "70835d91-0fdb-415f-a2df-a2af944c478e",
   "metadata": {},
   "outputs": [
    {
     "name": "stdout",
     "output_type": "stream",
     "text": [
      "Random integers: [3 7 9 3 5]\n"
     ]
    }
   ],
   "source": [
    "rand_ints = np.random.randint(0, 10, size=5)  \n",
    "print(\"Random integers:\", rand_ints)"
   ]
  },
  {
   "cell_type": "code",
   "execution_count": 65,
   "id": "be3749e9-3e73-4232-83e4-b81f039053bd",
   "metadata": {},
   "outputs": [
    {
     "name": "stdout",
     "output_type": "stream",
     "text": [
      "Random integers: [5 0 3 3 7]\n"
     ]
    }
   ],
   "source": [
    "np.random.seed(0)\n",
    "\n",
    "# Generate random integers\n",
    "rand_ints = np.random.randint(0, 10, size=5)  # Random integers between 0 and 10\n",
    "print(\"Random integers:\", rand_ints)"
   ]
  },
  {
   "cell_type": "markdown",
   "id": "c77f6d14-a3f9-4e35-9a06-848ada14034a",
   "metadata": {},
   "source": [
    "7. Boolean & Logical Functions"
   ]
  },
  {
   "cell_type": "code",
   "execution_count": 68,
   "id": "cc458b68-c0e7-4767-a03a-f37f1f6cbff2",
   "metadata": {},
   "outputs": [
    {
     "name": "stdout",
     "output_type": "stream",
     "text": [
      "All elements True: False\n"
     ]
    }
   ],
   "source": [
    "logical_test = np.array([True, False, True])\n",
    "all_true = np.all(logical_test)  # Check if all are True\n",
    "print(\"All elements True:\", all_true)"
   ]
  },
  {
   "cell_type": "code",
   "execution_count": 70,
   "id": "8669ae93-02ca-4a25-9b84-bcf525985b31",
   "metadata": {},
   "outputs": [
    {
     "name": "stdout",
     "output_type": "stream",
     "text": [
      "All elements True: False\n"
     ]
    }
   ],
   "source": [
    "logical_test = np.array([True, False, True])\n",
    "all_true = np.all(logical_test)  # Check if all are True\n",
    "print(\"All elements True:\", all_true)"
   ]
  },
  {
   "cell_type": "code",
   "execution_count": 72,
   "id": "fcd262b9-a19d-487e-be23-0e755a5b4924",
   "metadata": {},
   "outputs": [
    {
     "name": "stdout",
     "output_type": "stream",
     "text": [
      "All elements True: False\n"
     ]
    }
   ],
   "source": [
    "logical_test = np.array([False, False, False])\n",
    "all_true = np.all(logical_test)  # Check if all are True\n",
    "print(\"All elements True:\", all_true)"
   ]
  },
  {
   "cell_type": "code",
   "execution_count": 74,
   "id": "9c6699dd-20db-4abc-9e7f-62c6e65cc57b",
   "metadata": {},
   "outputs": [
    {
     "name": "stdout",
     "output_type": "stream",
     "text": [
      "Any elements True: False\n"
     ]
    }
   ],
   "source": [
    "any_true = np.any(logical_test)  # Check if any are True\n",
    "print(\"Any elements True:\", any_true)"
   ]
  },
  {
   "cell_type": "markdown",
   "id": "65fe53c0-ceca-43d5-876d-fc9ed4f617c5",
   "metadata": {},
   "source": [
    "8. Set Operations"
   ]
  },
  {
   "cell_type": "code",
   "execution_count": 77,
   "id": "5507cf11-23b6-4a4e-af49-45e956b0bc41",
   "metadata": {},
   "outputs": [
    {
     "name": "stdout",
     "output_type": "stream",
     "text": [
      "Intersection of a and b: [3 4]\n"
     ]
    }
   ],
   "source": [
    "set_a = np.array([1, 2, 3, 4])\n",
    "set_b = np.array([3, 4, 5, 6])\n",
    "intersection = np.intersect1d(set_a, set_b)\n",
    "print(\"Intersection of a and b:\", intersection)"
   ]
  },
  {
   "cell_type": "code",
   "execution_count": 79,
   "id": "70e1fa9b-cbaa-4db5-9871-66f15f63f1bd",
   "metadata": {},
   "outputs": [
    {
     "name": "stdout",
     "output_type": "stream",
     "text": [
      "Union of a and b: [1 2 3 4 5 6]\n"
     ]
    }
   ],
   "source": [
    "union = np.union1d(set_a, set_b)\n",
    "print(\"Union of a and b:\", union)"
   ]
  },
  {
   "cell_type": "markdown",
   "id": "dccb4000-8c6e-4e09-8e95-4fe28ce0eab6",
   "metadata": {},
   "source": [
    "9. Array Attribute Functions\n",
    "    "
   ]
  },
  {
   "cell_type": "code",
   "execution_count": 82,
   "id": "4d911851-9276-4be8-ac04-d5fffdf0aa44",
   "metadata": {},
   "outputs": [
    {
     "name": "stdout",
     "output_type": "stream",
     "text": [
      "Shape of a: (3,)\n",
      "Size of a: 3\n",
      "Number of dimensions of a: 1\n",
      "Data type of a: int32\n"
     ]
    }
   ],
   "source": [
    "a = np.array([1, 2, 3])\n",
    "shape = a.shape  # Shape of the array\n",
    "size = a.size    # Number of elements\n",
    "dimensions = a.ndim  # Number of dimensions\n",
    "dtype = a.dtype   # Data type of the array\n",
    "\n",
    "print(\"Shape of a:\", shape)\n",
    "print(\"Size of a:\", size)\n",
    "print(\"Number of dimensions of a:\", dimensions)\n",
    "print(\"Data type of a:\", dtype)\n"
   ]
  },
  {
   "cell_type": "markdown",
   "id": "6f1855cb-5104-4f1b-ae94-a8dfebb7cdb6",
   "metadata": {},
   "source": [
    "10. Other Functions"
   ]
  },
  {
   "cell_type": "code",
   "execution_count": 85,
   "id": "70e3a5cf-f739-44be-84b2-b37b10f2567e",
   "metadata": {},
   "outputs": [
    {
     "name": "stdout",
     "output_type": "stream",
     "text": [
      "Copied array: [1 2 3]\n"
     ]
    }
   ],
   "source": [
    "a = np.array([1, 2, 3])\n",
    "copied_array = np.copy(a)  # Create a copy of array a\n",
    "print(\"Copied array:\", copied_array)"
   ]
  },
  {
   "cell_type": "code",
   "execution_count": 87,
   "id": "11babb8f-f840-47e8-90b8-bc9315c3712a",
   "metadata": {},
   "outputs": [
    {
     "name": "stdout",
     "output_type": "stream",
     "text": [
      "Size of a in bytes: 12\n"
     ]
    }
   ],
   "source": [
    "array_size_in_bytes = a.nbytes  # Size in bytes\n",
    "print(\"Size of a in bytes:\", array_size_in_bytes)"
   ]
  },
  {
   "cell_type": "code",
   "execution_count": 89,
   "id": "ce55ef78-82f4-4db6-b909-8cc63b9bb503",
   "metadata": {},
   "outputs": [
    {
     "name": "stdout",
     "output_type": "stream",
     "text": [
      "Do a and copied_array share memory? False\n"
     ]
    }
   ],
   "source": [
    "shared = np.shares_memory(a, copied_array)  # Check if arrays share memory\n",
    "print(\"Do a and copied_array share memory?\", shared)"
   ]
  }
 ],
 "metadata": {
  "kernelspec": {
   "display_name": "Python [conda env:base] *",
   "language": "python",
   "name": "conda-base-py"
  },
  "language_info": {
   "codemirror_mode": {
    "name": "ipython",
    "version": 3
   },
   "file_extension": ".py",
   "mimetype": "text/x-python",
   "name": "python",
   "nbconvert_exporter": "python",
   "pygments_lexer": "ipython3",
   "version": "3.12.7"
  }
 },
 "nbformat": 4,
 "nbformat_minor": 5
}
