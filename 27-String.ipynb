{
 "cells": [
  {
   "cell_type": "markdown",
   "id": "35aff79d-afc3-4208-a816-442dbcd00fd1",
   "metadata": {},
   "source": [
    "# Single line comment"
   ]
  },
  {
   "cell_type": "code",
   "execution_count": 2,
   "id": "7ac158e3-3f2c-40f6-a920-9f44ab11abeb",
   "metadata": {},
   "outputs": [],
   "source": [
    "letter = 'P'   "
   ]
  },
  {
   "cell_type": "code",
   "execution_count": 4,
   "id": "373379d3-96cb-4a50-ae17-738490096f63",
   "metadata": {},
   "outputs": [
    {
     "name": "stdout",
     "output_type": "stream",
     "text": [
      "P\n"
     ]
    }
   ],
   "source": [
    "print(letter)  "
   ]
  },
  {
   "cell_type": "code",
   "execution_count": 6,
   "id": "aa3b2e92-8350-4423-96aa-c831b934c5fe",
   "metadata": {},
   "outputs": [
    {
     "name": "stdout",
     "output_type": "stream",
     "text": [
      "1\n"
     ]
    }
   ],
   "source": [
    "print(len(letter))"
   ]
  },
  {
   "cell_type": "code",
   "execution_count": 8,
   "id": "57a33dc9-7a05-4bbb-bc16-5f77dd6f053b",
   "metadata": {},
   "outputs": [],
   "source": [
    "greeting = 'Hello, World!'"
   ]
  },
  {
   "cell_type": "code",
   "execution_count": 10,
   "id": "184b4e93-c69e-453f-8135-a60149b8d44f",
   "metadata": {},
   "outputs": [
    {
     "name": "stdout",
     "output_type": "stream",
     "text": [
      "Hello, World!\n"
     ]
    }
   ],
   "source": [
    "print(greeting) "
   ]
  },
  {
   "cell_type": "code",
   "execution_count": 12,
   "id": "163bd893-2d1f-420f-9fc9-fc35c07f61d0",
   "metadata": {},
   "outputs": [
    {
     "name": "stdout",
     "output_type": "stream",
     "text": [
      "13\n"
     ]
    }
   ],
   "source": [
    "print(len(greeting)) "
   ]
  },
  {
   "cell_type": "code",
   "execution_count": 14,
   "id": "d0acb8b1-3e36-410c-8a08-363c1ee3d331",
   "metadata": {},
   "outputs": [],
   "source": [
    "sentence = \"I hope you are enjoying 30 days of python challenge\""
   ]
  },
  {
   "cell_type": "code",
   "execution_count": 16,
   "id": "8414bd0b-6218-42ae-b516-e19b265a4698",
   "metadata": {},
   "outputs": [
    {
     "name": "stdout",
     "output_type": "stream",
     "text": [
      "I hope you are enjoying 30 days of python challenge\n"
     ]
    }
   ],
   "source": [
    "print(sentence)"
   ]
  },
  {
   "cell_type": "markdown",
   "id": "c18d2728-61d6-4d27-97b2-15fcac500e1f",
   "metadata": {},
   "source": [
    "# Multiline String"
   ]
  },
  {
   "cell_type": "code",
   "execution_count": 19,
   "id": "9dc12e11-041e-49a9-83ed-839f2b269ab2",
   "metadata": {},
   "outputs": [
    {
     "name": "stdout",
     "output_type": "stream",
     "text": [
      "I am a teacher and enjoy teaching.\n",
      "I didn't find anything as rewarding as empowering people.\n",
      "That is why I created 30 days of python.\n"
     ]
    }
   ],
   "source": [
    "multiline_string = '''I am a teacher and enjoy teaching.\n",
    "I didn't find anything as rewarding as empowering people.\n",
    "That is why I created 30 days of python.'''\n",
    "print(multiline_string)"
   ]
  },
  {
   "cell_type": "markdown",
   "id": "70820dea-5c23-482c-9d77-86169501e0cb",
   "metadata": {},
   "source": [
    "# Another way of doing the same thing"
   ]
  },
  {
   "cell_type": "code",
   "execution_count": 22,
   "id": "df070d57-1e4b-43fc-9cb5-d74c30a80067",
   "metadata": {},
   "outputs": [
    {
     "name": "stdout",
     "output_type": "stream",
     "text": [
      "I am a teacher and enjoy teaching.\n",
      "I didn't find anything as rewarding as empowering people.\n",
      "That is why I created 30 days of python.\n"
     ]
    }
   ],
   "source": [
    "multiline_string = \"\"\"I am a teacher and enjoy teaching.\n",
    "I didn't find anything as rewarding as empowering people.\n",
    "That is why I created 30 days of python.\"\"\"\n",
    "print(multiline_string)"
   ]
  },
  {
   "cell_type": "markdown",
   "id": "b8171afc-05b6-460a-8456-963e2c9a2cd7",
   "metadata": {},
   "source": [
    "# String Concatenation"
   ]
  },
  {
   "cell_type": "code",
   "execution_count": 25,
   "id": "9a675bf5-86c0-4880-b45c-91b574753012",
   "metadata": {},
   "outputs": [
    {
     "name": "stdout",
     "output_type": "stream",
     "text": [
      "Asabeneh Yetayeh\n"
     ]
    }
   ],
   "source": [
    "first_name = 'Asabeneh'\n",
    "last_name = 'Yetayeh'\n",
    "space = ' '\n",
    "full_name = first_name  +  space + last_name\n",
    "print(full_name)"
   ]
  },
  {
   "cell_type": "markdown",
   "id": "4a8b4790-d116-4526-b587-9909b8bc9663",
   "metadata": {},
   "source": [
    "# Checking length of a string using len() builtin function"
   ]
  },
  {
   "cell_type": "code",
   "execution_count": 28,
   "id": "a20c8bce-dc0c-4971-bbd5-ff3161e74c92",
   "metadata": {},
   "outputs": [
    {
     "name": "stdout",
     "output_type": "stream",
     "text": [
      "8\n",
      "7\n",
      "True\n",
      "16\n"
     ]
    }
   ],
   "source": [
    "print(len(first_name))  # 8\n",
    "print(len(last_name))   # 7\n",
    "print(len(first_name) > len(last_name)) # True\n",
    "print(len(full_name)) # 15"
   ]
  },
  {
   "cell_type": "markdown",
   "id": "c49afc77-057a-4cb9-9442-1e2369a7b144",
   "metadata": {},
   "source": [
    "#### Unpacking characters"
   ]
  },
  {
   "cell_type": "code",
   "execution_count": 31,
   "id": "5f2fbedf-e59a-4a24-b8b9-84560a6e4bfb",
   "metadata": {},
   "outputs": [],
   "source": [
    "language = 'Python'"
   ]
  },
  {
   "cell_type": "code",
   "execution_count": 33,
   "id": "92eb0f4a-74f1-4fa6-908b-0f7267f86098",
   "metadata": {},
   "outputs": [],
   "source": [
    "a,b,c,d,e,f = language"
   ]
  },
  {
   "cell_type": "code",
   "execution_count": 35,
   "id": "2595fac5-0412-4ba9-afc4-9c77c46a18d7",
   "metadata": {},
   "outputs": [
    {
     "name": "stdout",
     "output_type": "stream",
     "text": [
      "P\n",
      "y\n",
      "t\n",
      "h\n",
      "o\n",
      "n\n"
     ]
    }
   ],
   "source": [
    "print(a) # P\n",
    "print(b) # y\n",
    "print(c) # t \n",
    "print(d) # h\n",
    "print(e) # o\n",
    "print(f) # n"
   ]
  },
  {
   "cell_type": "markdown",
   "id": "542f03dd-9481-475d-810f-3a9a2937065a",
   "metadata": {},
   "source": [
    "# Accessing characters in strings by index"
   ]
  },
  {
   "cell_type": "code",
   "execution_count": 40,
   "id": "7f6cf778-960b-4b0e-aec5-da804800c6d8",
   "metadata": {},
   "outputs": [
    {
     "name": "stdout",
     "output_type": "stream",
     "text": [
      "P\n",
      "y\n",
      "n\n"
     ]
    }
   ],
   "source": [
    "language = 'Python'\n",
    "first_letter = language[0]\n",
    "print(first_letter) # P\n",
    "second_letter = language[1]\n",
    "print(second_letter) # y\n",
    "last_index = len(language) - 1\n",
    "last_letter = language[last_index]\n",
    "print(last_letter) # n"
   ]
  },
  {
   "cell_type": "markdown",
   "id": "64f200b8-9801-4127-80ca-a6254b8fa4c9",
   "metadata": {},
   "source": [
    "# If we want to start from right end we can use negative indexing. -1 is the last index"
   ]
  },
  {
   "cell_type": "code",
   "execution_count": 43,
   "id": "4590935a-92fa-4a53-95c5-30d55096c237",
   "metadata": {},
   "outputs": [
    {
     "name": "stdout",
     "output_type": "stream",
     "text": [
      "n\n",
      "o\n"
     ]
    }
   ],
   "source": [
    "language = 'Python'\n",
    "last_letter = language[-1]\n",
    "print(last_letter) # n\n",
    "second_last = language[-2]\n",
    "print(second_last) # o\n"
   ]
  },
  {
   "cell_type": "markdown",
   "id": "60d0882c-e655-4f66-9c99-71cdff53dcbf",
   "metadata": {},
   "source": [
    "# Slicing"
   ]
  },
  {
   "cell_type": "code",
   "execution_count": 46,
   "id": "01cef08f-032e-4e61-ae17-452beaf2bcf1",
   "metadata": {},
   "outputs": [
    {
     "name": "stdout",
     "output_type": "stream",
     "text": [
      "hon\n"
     ]
    }
   ],
   "source": [
    "language = 'Python'\n",
    "first_three = language[0:3] # starts at zero index and up to 3 but not include 3\n",
    "last_three = language[3:6]\n",
    "print(last_three) # hon"
   ]
  },
  {
   "cell_type": "markdown",
   "id": "6403a4ce-7db7-407c-9911-9ff95667390d",
   "metadata": {},
   "source": [
    "# Another way"
   ]
  },
  {
   "cell_type": "code",
   "execution_count": 49,
   "id": "eb5e0d19-1102-4b0c-a8bd-585930568035",
   "metadata": {},
   "outputs": [
    {
     "name": "stdout",
     "output_type": "stream",
     "text": [
      "hon\n"
     ]
    }
   ],
   "source": [
    "last_three = language[-3:]\n",
    "print(last_three) "
   ]
  },
  {
   "cell_type": "code",
   "execution_count": 51,
   "id": "55922bc7-24ec-4a71-97e3-944569f5f37e",
   "metadata": {},
   "outputs": [
    {
     "name": "stdout",
     "output_type": "stream",
     "text": [
      "hon\n"
     ]
    }
   ],
   "source": [
    "last_three = language[3:]\n",
    "print(last_three) "
   ]
  },
  {
   "cell_type": "markdown",
   "id": "d22539ed-2caf-4665-92c8-32959f4e8a84",
   "metadata": {},
   "source": [
    "# Skipping character while splitting Python strings"
   ]
  },
  {
   "cell_type": "code",
   "execution_count": 54,
   "id": "f7c1e79d-b595-4fbb-978a-d43848c6fb91",
   "metadata": {},
   "outputs": [
    {
     "name": "stdout",
     "output_type": "stream",
     "text": [
      "Pto\n"
     ]
    }
   ],
   "source": [
    "language = 'Python'\n",
    "pto = language[0:6:2] # \n",
    "print(pto)"
   ]
  },
  {
   "cell_type": "markdown",
   "id": "67e59793-7339-44ad-93d2-825df15a3b99",
   "metadata": {},
   "source": [
    "# Escape sequence"
   ]
  },
  {
   "cell_type": "code",
   "execution_count": 57,
   "id": "0b8b9530-5874-4106-9878-080c0611f6a9",
   "metadata": {},
   "outputs": [
    {
     "name": "stdout",
     "output_type": "stream",
     "text": [
      "I hope every one enjoying the python challenge.\n",
      "Do you ?\n",
      "Days\tTopics\tExercises\n",
      "Day 1\t3\t5\n",
      "Day 2\t3\t5\n",
      "Day 3\t3\t5\n",
      "Day 4\t3\t5\n",
      "This is a back slash  symbol (\\)\n",
      "In every programming language it starts with \"Hello, World!\"\n"
     ]
    }
   ],
   "source": [
    "print('I hope every one enjoying the python challenge.\\nDo you ?') # line break\n",
    "print('Days\\tTopics\\tExercises')\n",
    "print('Day 1\\t3\\t5')\n",
    "print('Day 2\\t3\\t5')\n",
    "print('Day 3\\t3\\t5')\n",
    "print('Day 4\\t3\\t5')\n",
    "print('This is a back slash  symbol (\\\\)') # To write a back slash\n",
    "print('In every programming language it starts with \\\"Hello, World!\\\"')\n"
   ]
  },
  {
   "cell_type": "markdown",
   "id": "7338a188-1136-48bb-bb16-65aa77401b0a",
   "metadata": {},
   "source": [
    "# String Methods"
   ]
  },
  {
   "cell_type": "markdown",
   "id": "bac30faf-d4bd-4255-b591-0e48223270e8",
   "metadata": {},
   "source": [
    "## capitalize(): Converts the first character the string to Capital Letter\n"
   ]
  },
  {
   "cell_type": "code",
   "execution_count": 61,
   "id": "a729f09c-b6ef-47c9-ab31-49f1b0e4337b",
   "metadata": {},
   "outputs": [
    {
     "name": "stdout",
     "output_type": "stream",
     "text": [
      "Thirty days of python\n"
     ]
    }
   ],
   "source": [
    "challenge = 'thirty days of python'\n",
    "print(challenge.capitalize())"
   ]
  },
  {
   "cell_type": "markdown",
   "id": "bdbb418e-a193-47bb-8994-79fe051605c9",
   "metadata": {},
   "source": [
    "## count(): returns occurrences of substring in string, count(substring, start=.., end=..)\n"
   ]
  },
  {
   "cell_type": "code",
   "execution_count": 64,
   "id": "9616bdf1-a824-4ff8-a22c-c94fe37dcd46",
   "metadata": {},
   "outputs": [],
   "source": [
    "challenge = 'thirty days of python'\n"
   ]
  },
  {
   "cell_type": "code",
   "execution_count": 66,
   "id": "b0cbf048-52f1-433e-98cc-d845a15832ac",
   "metadata": {},
   "outputs": [
    {
     "name": "stdout",
     "output_type": "stream",
     "text": [
      "3\n"
     ]
    }
   ],
   "source": [
    "print(challenge.count('y')) # 3\n"
   ]
  },
  {
   "cell_type": "code",
   "execution_count": 68,
   "id": "1a5f3b00-2f19-40ef-a320-d2cab38f6fa8",
   "metadata": {},
   "outputs": [
    {
     "name": "stdout",
     "output_type": "stream",
     "text": [
      "1\n"
     ]
    }
   ],
   "source": [
    "print(challenge.count('y', 7, 14)) # 1\n"
   ]
  },
  {
   "cell_type": "code",
   "execution_count": 70,
   "id": "c1318952-ad12-41a8-bfcf-834480188048",
   "metadata": {},
   "outputs": [
    {
     "name": "stdout",
     "output_type": "stream",
     "text": [
      "2\n"
     ]
    }
   ],
   "source": [
    "print(challenge.count('th')) # 2`\n"
   ]
  },
  {
   "cell_type": "markdown",
   "id": "c44c228b-9fb0-433f-be8e-a6a7ac2d523d",
   "metadata": {},
   "source": [
    "## endswith(): Checks if a string ends with a specified ending"
   ]
  },
  {
   "cell_type": "code",
   "execution_count": 73,
   "id": "ee6039f8-0280-40cf-ba1d-56b21f0d31ef",
   "metadata": {},
   "outputs": [
    {
     "name": "stdout",
     "output_type": "stream",
     "text": [
      "True\n",
      "False\n"
     ]
    }
   ],
   "source": [
    "challenge = 'thirty days of python'\n",
    "print(challenge.endswith('on'))   # True\n",
    "print(challenge.endswith('tion')) # False"
   ]
  },
  {
   "cell_type": "markdown",
   "id": "3a3b90e6-66df-4496-ab7d-6cee7179e2b3",
   "metadata": {},
   "source": [
    "## expandtabs(): Replaces tab character with spaces, default tab size is 8. It takes tab size argument\n"
   ]
  },
  {
   "cell_type": "code",
   "execution_count": 76,
   "id": "4719e27f-aa5c-4e2f-953f-882fc34e9fa1",
   "metadata": {},
   "outputs": [
    {
     "name": "stdout",
     "output_type": "stream",
     "text": [
      "thirty  days    of      python\n",
      "thirty    days      of        python\n"
     ]
    }
   ],
   "source": [
    "challenge = 'thirty\\tdays\\tof\\tpython'\n",
    "print(challenge.expandtabs())   # 'thirty  days    of      python'\n",
    "print(challenge.expandtabs(10)) # 'thirty    days      of        python'"
   ]
  },
  {
   "cell_type": "markdown",
   "id": "57a353cb-2dfb-47e3-a4a9-e74723c1158a",
   "metadata": {},
   "source": [
    "## find(): Returns the index of first occurrence of substring"
   ]
  },
  {
   "cell_type": "code",
   "execution_count": 79,
   "id": "d996fab6-6d25-4bfd-8413-65d5642b7af4",
   "metadata": {},
   "outputs": [
    {
     "name": "stdout",
     "output_type": "stream",
     "text": [
      "5\n",
      "0\n"
     ]
    }
   ],
   "source": [
    "challenge = 'thirty days of python'\n",
    "print(challenge.find('y'))  # 5\n",
    "print(challenge.find('th')) # 0"
   ]
  },
  {
   "cell_type": "markdown",
   "id": "e241ade0-efc8-4e18-b3dd-2b5d09cfeab8",
   "metadata": {},
   "source": [
    "## format()\tformats string into nicer output"
   ]
  },
  {
   "cell_type": "code",
   "execution_count": 82,
   "id": "f9548ca5-59c4-464c-86be-a901b0986cc0",
   "metadata": {},
   "outputs": [
    {
     "name": "stdout",
     "output_type": "stream",
     "text": [
      "I am Asabeneh Yetayeh. I am a teacher. I live in Finland.\n"
     ]
    }
   ],
   "source": [
    "first_name = 'Asabeneh'\n",
    "last_name = 'Yetayeh'\n",
    "job = 'teacher'\n",
    "country = 'Finland'\n",
    "sentence = 'I am {} {}. I am a {}. I live in {}.'.format(first_name, last_name, job, country)\n",
    "print(sentence)"
   ]
  },
  {
   "cell_type": "code",
   "execution_count": 84,
   "id": "57211431-f72a-4122-9f47-8ab81e999572",
   "metadata": {},
   "outputs": [
    {
     "name": "stdout",
     "output_type": "stream",
     "text": [
      "The area of circle with 10 is 3.14\n"
     ]
    }
   ],
   "source": [
    "\n",
    "radius = 10\n",
    "pi = 3.14\n",
    "area = pi # radius ## 2\n",
    "result = 'The area of circle with {} is {}'.format(str(radius), str(area))\n",
    "print(result)"
   ]
  },
  {
   "cell_type": "markdown",
   "id": "ce210a28-6c8a-4dd4-a356-99716a5d3bc7",
   "metadata": {},
   "source": [
    "## index(): Returns the index of substring"
   ]
  },
  {
   "cell_type": "code",
   "execution_count": 87,
   "id": "0c1dbd24-fc23-426a-abfc-21d0ab215146",
   "metadata": {},
   "outputs": [
    {
     "name": "stdout",
     "output_type": "stream",
     "text": [
      "5\n",
      "0\n"
     ]
    }
   ],
   "source": [
    "challenge = 'thirty days of python'\n",
    "print(challenge.find('y')) \n",
    "print(challenge.find('th')) "
   ]
  },
  {
   "cell_type": "markdown",
   "id": "0de2f31d-962b-453b-bf3b-464bb607b9cd",
   "metadata": {},
   "source": [
    "## isalnum(): Checks alphanumeric character"
   ]
  },
  {
   "cell_type": "code",
   "execution_count": 90,
   "id": "81420947-02cf-452e-9475-d18a1986bb08",
   "metadata": {},
   "outputs": [
    {
     "name": "stdout",
     "output_type": "stream",
     "text": [
      "True\n"
     ]
    }
   ],
   "source": [
    "challenge = 'ThirtyDaysPython'\n",
    "print(challenge.isalnum())"
   ]
  },
  {
   "cell_type": "code",
   "execution_count": 92,
   "id": "ed4f83f8-6104-4d43-ae3b-75968f329774",
   "metadata": {},
   "outputs": [
    {
     "name": "stdout",
     "output_type": "stream",
     "text": [
      "True\n"
     ]
    }
   ],
   "source": [
    "challenge = '30DaysPython'\n",
    "print(challenge.isalnum())"
   ]
  },
  {
   "cell_type": "code",
   "execution_count": 94,
   "id": "4ce206b2-c542-4a47-a0aa-94598b48caba",
   "metadata": {},
   "outputs": [
    {
     "name": "stdout",
     "output_type": "stream",
     "text": [
      "False\n"
     ]
    }
   ],
   "source": [
    "challenge = 'thirty days of python'\n",
    "print(challenge.isalnum()) "
   ]
  },
  {
   "cell_type": "code",
   "execution_count": 96,
   "id": "0d9b7f4d-9488-40bd-a497-66572dfe4d3c",
   "metadata": {},
   "outputs": [
    {
     "name": "stdout",
     "output_type": "stream",
     "text": [
      "False\n"
     ]
    }
   ],
   "source": [
    "challenge = 'thirty days of python 2019'\n",
    "print(challenge.isalnum())"
   ]
  },
  {
   "cell_type": "markdown",
   "id": "8c6775bf-f390-4a9c-b88a-0c81f69c1a2d",
   "metadata": {},
   "source": [
    "## isalpha(): Checks if all characters are alphabets"
   ]
  },
  {
   "cell_type": "code",
   "execution_count": 101,
   "id": "96c03672-201c-45e5-a7ce-172fe3a5fafb",
   "metadata": {},
   "outputs": [
    {
     "name": "stdout",
     "output_type": "stream",
     "text": [
      "False\n"
     ]
    }
   ],
   "source": [
    "challenge = 'thirty days of python'\n",
    "print(challenge.isalpha())"
   ]
  },
  {
   "cell_type": "code",
   "execution_count": 103,
   "id": "2ddc0b83-384e-404b-b207-6f8706b9bcdb",
   "metadata": {},
   "outputs": [
    {
     "name": "stdout",
     "output_type": "stream",
     "text": [
      "False\n"
     ]
    }
   ],
   "source": [
    "num = '123'\n",
    "print(num.isalpha())  "
   ]
  },
  {
   "cell_type": "markdown",
   "id": "71721565-6ea2-477f-8cc3-7b9d3db11f97",
   "metadata": {},
   "source": [
    "## isdecimal(): Checks Decimal Characters"
   ]
  },
  {
   "cell_type": "code",
   "execution_count": 106,
   "id": "20f3014f-3486-402f-87e6-ad25d0e492eb",
   "metadata": {},
   "outputs": [
    {
     "name": "stdout",
     "output_type": "stream",
     "text": [
      "5\n",
      "0\n"
     ]
    }
   ],
   "source": [
    "challenge = 'thirty days of python'\n",
    "print(challenge.find('y')) \n",
    "print(challenge.find('th')) "
   ]
  },
  {
   "cell_type": "markdown",
   "id": "c58a24be-f4de-492b-a827-a0e9352b19b1",
   "metadata": {},
   "source": [
    "## isdigit(): Checks Digit Characters"
   ]
  },
  {
   "cell_type": "code",
   "execution_count": 109,
   "id": "72bcf9a6-266d-4904-8b50-a2bdd36c0838",
   "metadata": {},
   "outputs": [
    {
     "name": "stdout",
     "output_type": "stream",
     "text": [
      "False\n"
     ]
    }
   ],
   "source": [
    "challenge = 'Thirty'\n",
    "print(challenge.isdigit())"
   ]
  },
  {
   "cell_type": "code",
   "execution_count": 115,
   "id": "1006f952-74b9-4eff-8a84-1cd5c0c7ad6d",
   "metadata": {},
   "outputs": [
    {
     "name": "stdout",
     "output_type": "stream",
     "text": [
      "True\n"
     ]
    }
   ],
   "source": [
    "challenge = '30'\n",
    "print(challenge.isdigit()) "
   ]
  },
  {
   "cell_type": "markdown",
   "id": "4a1dfe24-97ed-4b48-bd4c-dc79325891d7",
   "metadata": {},
   "source": [
    "## isdecimal():Checks decimal characters"
   ]
  },
  {
   "cell_type": "code",
   "execution_count": 118,
   "id": "f24d02b1-1bf2-4877-8488-2b78d0969b39",
   "metadata": {},
   "outputs": [
    {
     "name": "stdout",
     "output_type": "stream",
     "text": [
      "True\n",
      "False\n"
     ]
    }
   ],
   "source": [
    "\n",
    "num = '10'\n",
    "print(num.isdecimal()) \n",
    "num = '10.5'\n",
    "print(num.isdecimal()) "
   ]
  },
  {
   "cell_type": "markdown",
   "id": "15a8232e-dd34-44aa-90c2-2450de555dc6",
   "metadata": {},
   "source": [
    "## isidentifier():Checks for valid identifier means it check if a string is a valid variable name\n"
   ]
  },
  {
   "cell_type": "code",
   "execution_count": 121,
   "id": "3d4b677e-0b0a-4744-9d7c-bf54c88fd8cf",
   "metadata": {},
   "outputs": [
    {
     "name": "stdout",
     "output_type": "stream",
     "text": [
      "False\n",
      "True\n"
     ]
    }
   ],
   "source": [
    "challenge = '30DaysOfPython'\n",
    "print(challenge.isidentifier()) \n",
    "challenge = 'thirty_days_of_python'\n",
    "print(challenge.isidentifier())\n"
   ]
  },
  {
   "cell_type": "markdown",
   "id": "4ebcec1c-e709-4c88-8100-80c46395d3cb",
   "metadata": {},
   "source": [
    "## islower():Checks if all alphabets in a string are lowercase"
   ]
  },
  {
   "cell_type": "code",
   "execution_count": 124,
   "id": "9b8b6978-f5c8-4630-a0e3-662481fdfd3e",
   "metadata": {},
   "outputs": [
    {
     "name": "stdout",
     "output_type": "stream",
     "text": [
      "True\n",
      "False\n"
     ]
    }
   ],
   "source": [
    "challenge = 'thirty days of python'\n",
    "print(challenge.islower()) \n",
    "challenge = 'Thirty days of python'\n",
    "print(challenge.islower()) "
   ]
  },
  {
   "cell_type": "markdown",
   "id": "11eaa7ed-9674-4cb6-8598-7f43f9cae23c",
   "metadata": {},
   "source": [
    "## isupper(): returns if all characters are uppercase characters"
   ]
  },
  {
   "cell_type": "code",
   "execution_count": 127,
   "id": "fb7afaaf-da92-4758-b221-d49d6069535a",
   "metadata": {},
   "outputs": [
    {
     "name": "stdout",
     "output_type": "stream",
     "text": [
      "False\n",
      "True\n"
     ]
    }
   ],
   "source": [
    "challenge = 'thirty days of python'\n",
    "print(challenge.isupper()) \n",
    "challenge = 'THIRTY DAYS OF PYTHON'\n",
    "print(challenge.isupper())"
   ]
  },
  {
   "cell_type": "markdown",
   "id": "e93a9594-dbe7-42b2-a69b-536f8567090b",
   "metadata": {},
   "source": [
    "## isnumeric():Checks numeric characters"
   ]
  },
  {
   "cell_type": "code",
   "execution_count": 130,
   "id": "3c1efa2a-d638-45ee-9163-90506ffad5e8",
   "metadata": {},
   "outputs": [
    {
     "name": "stdout",
     "output_type": "stream",
     "text": [
      "True\n",
      "False\n"
     ]
    }
   ],
   "source": [
    "num = '10'\n",
    "print(num.isnumeric())      \n",
    "print('ten'.isnumeric())  "
   ]
  },
  {
   "cell_type": "markdown",
   "id": "e0b8c7a3-ade9-4bcc-9002-6c0033c57114",
   "metadata": {},
   "source": [
    "## join(): Returns a concatenated string"
   ]
  },
  {
   "cell_type": "code",
   "execution_count": 133,
   "id": "2ea9ee4a-bcfd-4719-9f80-e66fd8a64661",
   "metadata": {},
   "outputs": [
    {
     "name": "stdout",
     "output_type": "stream",
     "text": [
      "HTML#, CSS#, JavaScript#, React\n"
     ]
    }
   ],
   "source": [
    "web_tech = ['HTML', 'CSS', 'JavaScript', 'React']\n",
    "result = '#, '.join(web_tech)\n",
    "print(result)"
   ]
  },
  {
   "cell_type": "markdown",
   "id": "9df015e6-64ce-49fb-a0cf-b2a57ed0dcda",
   "metadata": {},
   "source": [
    "## strip(): Removes both leading and trailing characters"
   ]
  },
  {
   "cell_type": "code",
   "execution_count": 136,
   "id": "8d3881c0-35c4-483b-a5f0-c112e24b99fa",
   "metadata": {},
   "outputs": [
    {
     "name": "stdout",
     "output_type": "stream",
     "text": [
      " thirty days of python \n"
     ]
    }
   ],
   "source": [
    "challenge = ' thirty days of python '\n",
    "print(challenge.strip('y'))"
   ]
  },
  {
   "cell_type": "markdown",
   "id": "16af360d-9694-4943-b686-55e740c15450",
   "metadata": {},
   "source": [
    "## replace(): Replaces substring inside"
   ]
  },
  {
   "cell_type": "code",
   "execution_count": 139,
   "id": "60abc70b-3b71-471c-bafe-8d54f98c2bdb",
   "metadata": {},
   "outputs": [
    {
     "name": "stdout",
     "output_type": "stream",
     "text": [
      "thirty days of coding\n"
     ]
    }
   ],
   "source": [
    "challenge = 'thirty days of python'\n",
    "print(challenge.replace('python', 'coding'))"
   ]
  },
  {
   "cell_type": "markdown",
   "id": "fae32c83-db1d-470f-98da-e17578e44cfe",
   "metadata": {},
   "source": [
    "## split():Splits String from Left"
   ]
  },
  {
   "cell_type": "code",
   "execution_count": 142,
   "id": "5048f3bd-edc3-4655-b930-3719b4199ce9",
   "metadata": {},
   "outputs": [
    {
     "name": "stdout",
     "output_type": "stream",
     "text": [
      "['thirty', 'days', 'of', 'python']\n"
     ]
    }
   ],
   "source": [
    "challenge = 'thirty days of python'\n",
    "print(challenge.split())"
   ]
  },
  {
   "cell_type": "markdown",
   "id": "e287a9e7-b283-4727-b72e-d5dd40a19c04",
   "metadata": {},
   "source": [
    "## title(): Returns a Title Cased String"
   ]
  },
  {
   "cell_type": "code",
   "execution_count": 145,
   "id": "12ad6957-29da-4352-8320-605a2ca7893a",
   "metadata": {},
   "outputs": [
    {
     "name": "stdout",
     "output_type": "stream",
     "text": [
      "Thirty Days Of Python\n"
     ]
    }
   ],
   "source": [
    "challenge = 'thirty days of python'\n",
    "print(challenge.title())"
   ]
  },
  {
   "cell_type": "markdown",
   "id": "c485d250-cf20-47f0-913b-c4501b7ec984",
   "metadata": {},
   "source": [
    "## swapcase(): Checks if String Starts with the Specified String"
   ]
  },
  {
   "cell_type": "code",
   "execution_count": 148,
   "id": "3267587f-dd6c-418f-b114-b38e5a5c821c",
   "metadata": {},
   "outputs": [
    {
     "name": "stdout",
     "output_type": "stream",
     "text": [
      "THIRTY DAYS OF PYTHON\n"
     ]
    }
   ],
   "source": [
    "challenge = 'thirty days of python'\n",
    "print(challenge.swapcase()) "
   ]
  },
  {
   "cell_type": "code",
   "execution_count": 150,
   "id": "50c05bf7-2347-4894-b9f2-0550d3ff155b",
   "metadata": {},
   "outputs": [
    {
     "name": "stdout",
     "output_type": "stream",
     "text": [
      "tHIRTY dAYS oF pYTHON\n"
     ]
    }
   ],
   "source": [
    "challenge = 'Thirty Days Of Python'\n",
    "print(challenge.swapcase())"
   ]
  },
  {
   "cell_type": "markdown",
   "id": "5e69e833-8f2a-4df6-bfc3-766df7321f7f",
   "metadata": {},
   "source": [
    "## startswith(): Checks if String Starts with the Specified String"
   ]
  },
  {
   "cell_type": "code",
   "execution_count": 154,
   "id": "954997f7-1ef4-4444-b69d-7632093aba17",
   "metadata": {},
   "outputs": [
    {
     "name": "stdout",
     "output_type": "stream",
     "text": [
      "True\n"
     ]
    }
   ],
   "source": [
    "challenge = 'thirty days of python'\n",
    "print(challenge.startswith('thirty'))"
   ]
  },
  {
   "cell_type": "code",
   "execution_count": 156,
   "id": "17e9901f-d55b-475e-bfa1-61921b82f910",
   "metadata": {},
   "outputs": [
    {
     "name": "stdout",
     "output_type": "stream",
     "text": [
      "False\n"
     ]
    }
   ],
   "source": [
    "challenge = '30 days of python'\n",
    "print(challenge.startswith('thirty'))"
   ]
  },
  {
   "cell_type": "code",
   "execution_count": null,
   "id": "6e3b3f93-0a42-48e4-8863-29647677d491",
   "metadata": {},
   "outputs": [],
   "source": []
  }
 ],
 "metadata": {
  "kernelspec": {
   "display_name": "Python [conda env:base] *",
   "language": "python",
   "name": "conda-base-py"
  },
  "language_info": {
   "codemirror_mode": {
    "name": "ipython",
    "version": 3
   },
   "file_extension": ".py",
   "mimetype": "text/x-python",
   "name": "python",
   "nbconvert_exporter": "python",
   "pygments_lexer": "ipython3",
   "version": "3.12.7"
  }
 },
 "nbformat": 4,
 "nbformat_minor": 5
}
