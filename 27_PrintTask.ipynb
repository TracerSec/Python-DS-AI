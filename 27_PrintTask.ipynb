{
 "cells": [
  {
   "cell_type": "code",
   "execution_count": 1,
   "id": "eaa4ee9e-1b52-4955-ba84-e06052d3e4f3",
   "metadata": {},
   "outputs": [
    {
     "data": {
      "text/plain": [
       "20"
      ]
     },
     "execution_count": 1,
     "metadata": {},
     "output_type": "execute_result"
    }
   ],
   "source": [
    "a=10\n",
    "b=20\n",
    "a\n",
    "b"
   ]
  },
  {
   "cell_type": "code",
   "execution_count": 3,
   "id": "e5e29376-a2c0-45d0-9710-134954ac77e8",
   "metadata": {},
   "outputs": [
    {
     "name": "stdout",
     "output_type": "stream",
     "text": [
      "10\n",
      "20\n"
     ]
    }
   ],
   "source": [
    "a=10\n",
    "b=20\n",
    "print(a)\n",
    "print(b)"
   ]
  },
  {
   "cell_type": "code",
   "execution_count": 5,
   "id": "746377ae-d694-4bed-81c7-d8fb5a7f6727",
   "metadata": {},
   "outputs": [
    {
     "name": "stdout",
     "output_type": "stream",
     "text": [
      "10\n",
      "10 20\n",
      "python\n",
      "10 20 python\n"
     ]
    }
   ],
   "source": [
    "print(10)\n",
    "print(10,20)\n",
    "print('python')\n",
    "print(10,20,'python')"
   ]
  },
  {
   "cell_type": "code",
   "execution_count": 7,
   "id": "90f68f6c-0cbf-43da-a771-12ca23b67d26",
   "metadata": {},
   "outputs": [
    {
     "name": "stdout",
     "output_type": "stream",
     "text": [
      "10\n",
      "10 20\n",
      "python\n",
      "10 20 python\n"
     ]
    }
   ],
   "source": [
    "print(10)\n",
    "print(10,20)\n",
    "print('python')\n",
    "print(10,20,'python')"
   ]
  },
  {
   "cell_type": "markdown",
   "id": "68b20954-a3cd-4c70-9887-fe4d6907de5e",
   "metadata": {},
   "source": [
    "Print Result with String"
   ]
  },
  {
   "cell_type": "code",
   "execution_count": 16,
   "id": "db891512-ff64-420e-8a23-63b113277837",
   "metadata": {},
   "outputs": [
    {
     "name": "stdout",
     "output_type": "stream",
     "text": [
      "The addition of 20 and 30 is= 50\n"
     ]
    }
   ],
   "source": [
    "num1=20\n",
    "num2=30\n",
    "add=num1+num2\n",
    "print('The addition of',num1,'and',num2,'is=',add)"
   ]
  },
  {
   "cell_type": "code",
   "execution_count": 22,
   "id": "61ee100f-99d0-47fa-a70c-6dcbfd7026df",
   "metadata": {},
   "outputs": [],
   "source": [
    "name='Python' \n",
    "age=20\n",
    "city='hyd'"
   ]
  },
  {
   "cell_type": "code",
   "execution_count": 24,
   "id": "b07cc921-09b7-4320-825a-12e09ccccc80",
   "metadata": {},
   "outputs": [
    {
     "name": "stdout",
     "output_type": "stream",
     "text": [
      "My name is Python and i am 20 years old form hyd\n"
     ]
    }
   ],
   "source": [
    "print('My name is',name,'and i am',age,'years old form',city)"
   ]
  },
  {
   "cell_type": "code",
   "execution_count": 26,
   "id": "feb44690-6630-447d-905e-5f4b1a67a9fd",
   "metadata": {},
   "outputs": [],
   "source": [
    "#print Format Method"
   ]
  },
  {
   "cell_type": "code",
   "execution_count": 30,
   "id": "3f49ca81-ad99-4c00-94da-ac14f5fe0509",
   "metadata": {},
   "outputs": [
    {
     "name": "stdout",
     "output_type": "stream",
     "text": [
      "The addition of 20 and 30 is =50\n"
     ]
    }
   ],
   "source": [
    "num1=20\n",
    "num2=30\n",
    "add=num1+num2\n",
    "print('The addition of {} and {} is ={}'.format(num1,num2,add))"
   ]
  },
  {
   "cell_type": "code",
   "execution_count": 32,
   "id": "29d241ef-48bf-49b9-9404-aa9ba3ea1839",
   "metadata": {},
   "outputs": [],
   "source": [
    "name='Python'\n",
    "age=20\n",
    "city='hyd'"
   ]
  },
  {
   "cell_type": "code",
   "execution_count": 34,
   "id": "10ca6540-0a95-478d-aa5e-bc4907128f34",
   "metadata": {},
   "outputs": [
    {
     "name": "stdout",
     "output_type": "stream",
     "text": [
      "hello my name is Python, and i am 20 years old from  hyd\n"
     ]
    }
   ],
   "source": [
    "print('hello my name is {}, and i am {} years old from  {}'.format(name,age,city))"
   ]
  },
  {
   "cell_type": "code",
   "execution_count": 36,
   "id": "012e07fc-7f2e-4413-8d45-3cc92b22529a",
   "metadata": {},
   "outputs": [
    {
     "name": "stdout",
     "output_type": "stream",
     "text": [
      "the average of 100,25, and 333 is =152.66666666666666 or152.67\n"
     ]
    }
   ],
   "source": [
    "num1=100\n",
    "num2=25\n",
    "num3=333\n",
    "avg=(num1+num2+num3)/3\n",
    "avg1=round((num1+num2+num3)/3,2)\n",
    "print('the average of {},{}, and {} is ={} or{}'.format(num1,num2,num3,avg,avg1))"
   ]
  },
  {
   "cell_type": "code",
   "execution_count": 42,
   "id": "c789eeff-86e1-4c4d-bd96-6c326e0ca981",
   "metadata": {},
   "outputs": [
    {
     "data": {
      "text/plain": [
       "152.67"
      ]
     },
     "execution_count": 42,
     "metadata": {},
     "output_type": "execute_result"
    }
   ],
   "source": [
    "round(avg,2)"
   ]
  },
  {
   "cell_type": "code",
   "execution_count": 44,
   "id": "546492fa-67fa-4f93-b8fb-7ca01a93540d",
   "metadata": {},
   "outputs": [],
   "source": [
    "#More short format method(f string method)"
   ]
  },
  {
   "cell_type": "code",
   "execution_count": 46,
   "id": "12c8db76-6115-4472-ba49-e41a04d545d6",
   "metadata": {},
   "outputs": [],
   "source": [
    "num1=20\n",
    "num2=30"
   ]
  },
  {
   "cell_type": "code",
   "execution_count": 48,
   "id": "b5c32179-a295-4474-aa9e-49e69b74793b",
   "metadata": {},
   "outputs": [
    {
     "name": "stdout",
     "output_type": "stream",
     "text": [
      "The addition of 20 and30 is=50\n"
     ]
    }
   ],
   "source": [
    "add=num1+num2\n",
    "print(f'The addition of {num1} and{num2} is={add}')"
   ]
  },
  {
   "cell_type": "code",
   "execution_count": 50,
   "id": "7fcc0b2b-e4ca-4a4d-88ba-529bf9f1963a",
   "metadata": {},
   "outputs": [],
   "source": [
    "name='Python'\n",
    "age=20\n",
    "city='hyd'"
   ]
  },
  {
   "cell_type": "code",
   "execution_count": 56,
   "id": "8129cccd-bbb3-47c4-a749-953e7135640a",
   "metadata": {},
   "outputs": [
    {
     "name": "stdout",
     "output_type": "stream",
     "text": [
      "hello my name is Python, and i am 20 year old, fromhyd.\n"
     ]
    }
   ],
   "source": [
    "print(f'hello my name is {name}, and i am {age} year old, from{city}.')"
   ]
  },
  {
   "cell_type": "code",
   "execution_count": 58,
   "id": "d8d09361-4414-49f4-82ad-2c75d8943c57",
   "metadata": {},
   "outputs": [],
   "source": [
    "num1=100\n",
    "num2=25\n",
    "nnum3=333\n",
    "avg=round((num1+num2+num3)/3,2)"
   ]
  },
  {
   "cell_type": "code",
   "execution_count": 60,
   "id": "7da36be4-a14a-4474-a8ef-55e98f0fe300",
   "metadata": {},
   "outputs": [
    {
     "name": "stdout",
     "output_type": "stream",
     "text": [
      "The average of 100,25 and333 is = 152.67\n"
     ]
    }
   ],
   "source": [
    "print(f'The average of {num1},{num2} and{num3} is = {avg}')"
   ]
  },
  {
   "cell_type": "code",
   "execution_count": 62,
   "id": "3cc70682-0290-46bf-b40d-9ac44b7aca20",
   "metadata": {},
   "outputs": [
    {
     "name": "stdout",
     "output_type": "stream",
     "text": [
      "The Addition of 10 and 20 is= 30\n",
      "the addition of 10 and20 is=30\n"
     ]
    }
   ],
   "source": [
    "num1=10\n",
    "num2=20\n",
    "add=num1+num2\n",
    "print('The Addition of',num1,'and',num2,'is=',add)\n",
    "print('the addition of {} and{} is={}'.format(num1,num2,add))"
   ]
  },
  {
   "cell_type": "code",
   "execution_count": 64,
   "id": "98e7ffbb-0c39-4578-92a1-036f86951e7a",
   "metadata": {},
   "outputs": [
    {
     "name": "stdout",
     "output_type": "stream",
     "text": [
      "The addition of 10 and20 is=30\n"
     ]
    }
   ],
   "source": [
    "print(f'The addition of {num1} and{num2} is={add}')"
   ]
  },
  {
   "cell_type": "markdown",
   "id": "11cd4a4f-a225-4638-ae13-5e949f14fa06",
   "metadata": {},
   "source": [
    "end Statement"
   ]
  },
  {
   "cell_type": "code",
   "execution_count": 67,
   "id": "f37f216c-f768-47e0-8149-35d410d41de1",
   "metadata": {},
   "outputs": [
    {
     "name": "stdout",
     "output_type": "stream",
     "text": [
      "hello\n",
      "Good Morning\n"
     ]
    }
   ],
   "source": [
    "print('hello')\n",
    "print('Good Morning')"
   ]
  },
  {
   "cell_type": "markdown",
   "id": "52404916-ea6d-416a-8021-f394d92052b0",
   "metadata": {},
   "source": [
    "Seperator"
   ]
  },
  {
   "cell_type": "code",
   "execution_count": 70,
   "id": "f842daca-d026-4a11-8a95-5e135b088ee6",
   "metadata": {},
   "outputs": [
    {
     "name": "stdout",
     "output_type": "stream",
     "text": [
      "hello--->hai--->how are you\n"
     ]
    }
   ],
   "source": [
    "print('hello','hai','how are you',sep='--->')"
   ]
  },
  {
   "cell_type": "code",
   "execution_count": 72,
   "id": "5196bcaa-d215-4a2c-a5d6-20cc0ff17d9f",
   "metadata": {},
   "outputs": [
    {
     "name": "stdout",
     "output_type": "stream",
     "text": [
      "hello&hai&how are you\n"
     ]
    }
   ],
   "source": [
    "print('hello','hai','how are you',sep='&')"
   ]
  },
  {
   "cell_type": "code",
   "execution_count": 74,
   "id": "219817e3-54d7-4d74-8844-cd6711ec694c",
   "metadata": {},
   "outputs": [
    {
     "name": "stdout",
     "output_type": "stream",
     "text": [
      "hello@hai@how are you\n"
     ]
    }
   ],
   "source": [
    "print('hello','hai','how are you',sep='@')"
   ]
  },
  {
   "cell_type": "code",
   "execution_count": 76,
   "id": "ed7357ac-f40a-4775-8ad9-2e28b1659f21",
   "metadata": {},
   "outputs": [
    {
     "name": "stdout",
     "output_type": "stream",
     "text": [
      "hello hai how are you\n"
     ]
    }
   ],
   "source": [
    "print('hello','hai','how are you',sep=' ')"
   ]
  },
  {
   "cell_type": "code",
   "execution_count": 78,
   "id": "2157e104-3e0c-4d73-9ead-b4401ff66c99",
   "metadata": {},
   "outputs": [
    {
     "name": "stdout",
     "output_type": "stream",
     "text": [
      "3 .\n"
     ]
    }
   ],
   "source": [
    "print(3,'.')"
   ]
  },
  {
   "cell_type": "code",
   "execution_count": 80,
   "id": "91983d53-f600-493c-ad3c-5dd8436d436f",
   "metadata": {},
   "outputs": [
    {
     "name": "stdout",
     "output_type": "stream",
     "text": [
      "3.\n"
     ]
    }
   ],
   "source": [
    "print(3,'.',sep='')"
   ]
  },
  {
   "cell_type": "code",
   "execution_count": 82,
   "id": "7cde7f11-1eb9-4e6f-b5d0-224b01311b33",
   "metadata": {},
   "outputs": [
    {
     "name": "stdout",
     "output_type": "stream",
     "text": [
      "1 2 3.\n"
     ]
    }
   ],
   "source": [
    "print(1,2,end=' ') \n",
    "print(3,'.',sep='')"
   ]
  },
  {
   "cell_type": "code",
   "execution_count": null,
   "id": "9f0c2abb-c886-4690-a521-6720ac1a234a",
   "metadata": {},
   "outputs": [],
   "source": []
  }
 ],
 "metadata": {
  "kernelspec": {
   "display_name": "Python [conda env:base] *",
   "language": "python",
   "name": "conda-base-py"
  },
  "language_info": {
   "codemirror_mode": {
    "name": "ipython",
    "version": 3
   },
   "file_extension": ".py",
   "mimetype": "text/x-python",
   "name": "python",
   "nbconvert_exporter": "python",
   "pygments_lexer": "ipython3",
   "version": "3.12.7"
  }
 },
 "nbformat": 4,
 "nbformat_minor": 5
}
